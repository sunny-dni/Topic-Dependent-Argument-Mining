{
 "cells": [
  {
   "cell_type": "markdown",
   "metadata": {
    "id": "z3AHa9In2UB3"
   },
   "source": [
    "# Topic classification with NN\n",
    "\n",
    "Dataset:\n",
    "    UKP ASPECT\n",
    "    <br>Download Link: <href>https://tudatalib.ulb.tu-darmstadt.de/bitstream/handle/tudatalib/1998/UKP_ASPECT.zip?sequence=1&isAllowed=y</href>\n",
    "<br><br>Steps:\n",
    "1. Clean texts\n",
    "2. Fit the base model - Logistic regression\n",
    "3. Fit neural network model (with and without the dropout layers)"
   ]
  },
  {
   "cell_type": "markdown",
   "metadata": {},
   "source": [
    "### Importing Required Libraries"
   ]
  },
  {
   "cell_type": "code",
   "execution_count": 1,
   "metadata": {
    "id": "YutpSk1r2UB8"
   },
   "outputs": [],
   "source": [
    "import re\n",
    "import nltk\n",
    "import pandas as pd\n",
    "import numpy as np\n",
    "from sklearn.model_selection import train_test_split\n",
    "from sklearn.metrics import classification_report\n",
    "import tensorflow_hub as hub\n",
    "from nltk.corpus import stopwords\n",
    "from nltk.stem import WordNetLemmatizer\n",
    "from sklearn.feature_extraction.text import TfidfVectorizer\n",
    "from sklearn.model_selection import train_test_split\n",
    "import time\n",
    "import tensorflow as tf"
   ]
  },
  {
   "cell_type": "markdown",
   "metadata": {
    "id": "GymFsHti2UCC"
   },
   "source": [
    "## 1. Load Data and Convert to CSV"
   ]
  },
  {
   "cell_type": "code",
   "execution_count": 2,
   "metadata": {
    "colab": {
     "base_uri": "https://localhost:8080/"
    },
    "id": "eJ2A5eTn8jUP",
    "outputId": "9692076b-9d0d-4c88-92ae-d690d10694cc"
   },
   "outputs": [
    {
     "name": "stdout",
     "output_type": "stream",
     "text": [
      "Mounted at /content/drive/\n"
     ]
    }
   ],
   "source": [
    "from google.colab import drive\n",
    "drive.mount('/content/drive/', force_remount=True)"
   ]
  },
  {
   "cell_type": "code",
   "execution_count": 3,
   "metadata": {
    "colab": {
     "base_uri": "https://localhost:8080/",
     "height": 206
    },
    "id": "m5m55UKW2UCD",
    "outputId": "3e65bfc7-4a93-4f4d-c5ac-0821eee05f5f"
   },
   "outputs": [
    {
     "data": {
      "text/html": [
       "\n",
       "  <div id=\"df-eb4aaa30-3b33-4225-850d-d3c4f7212b63\">\n",
       "    <div class=\"colab-df-container\">\n",
       "      <div>\n",
       "<style scoped>\n",
       "    .dataframe tbody tr th:only-of-type {\n",
       "        vertical-align: middle;\n",
       "    }\n",
       "\n",
       "    .dataframe tbody tr th {\n",
       "        vertical-align: top;\n",
       "    }\n",
       "\n",
       "    .dataframe thead th {\n",
       "        text-align: right;\n",
       "    }\n",
       "</style>\n",
       "<table border=\"1\" class=\"dataframe\">\n",
       "  <thead>\n",
       "    <tr style=\"text-align: right;\">\n",
       "      <th></th>\n",
       "      <th>type</th>\n",
       "      <th>description</th>\n",
       "    </tr>\n",
       "  </thead>\n",
       "  <tbody>\n",
       "    <tr>\n",
       "      <th>0</th>\n",
       "      <td>3d printing</td>\n",
       "      <td>3D Printed Products Can Improve Health Outcome...</td>\n",
       "    </tr>\n",
       "    <tr>\n",
       "      <th>1</th>\n",
       "      <td>3d printing</td>\n",
       "      <td>This could greatly increase the quality of lif...</td>\n",
       "    </tr>\n",
       "    <tr>\n",
       "      <th>2</th>\n",
       "      <td>3d printing</td>\n",
       "      <td>Controlled Print Chamber: Controlled process e...</td>\n",
       "    </tr>\n",
       "    <tr>\n",
       "      <th>3</th>\n",
       "      <td>3d printing</td>\n",
       "      <td>Spark will make visualization of prints much e...</td>\n",
       "    </tr>\n",
       "    <tr>\n",
       "      <th>4</th>\n",
       "      <td>3d printing</td>\n",
       "      <td>Affordable 3D Printing for everyone With the U...</td>\n",
       "    </tr>\n",
       "  </tbody>\n",
       "</table>\n",
       "</div>\n",
       "      <button class=\"colab-df-convert\" onclick=\"convertToInteractive('df-eb4aaa30-3b33-4225-850d-d3c4f7212b63')\"\n",
       "              title=\"Convert this dataframe to an interactive table.\"\n",
       "              style=\"display:none;\">\n",
       "        \n",
       "  <svg xmlns=\"http://www.w3.org/2000/svg\" height=\"24px\"viewBox=\"0 0 24 24\"\n",
       "       width=\"24px\">\n",
       "    <path d=\"M0 0h24v24H0V0z\" fill=\"none\"/>\n",
       "    <path d=\"M18.56 5.44l.94 2.06.94-2.06 2.06-.94-2.06-.94-.94-2.06-.94 2.06-2.06.94zm-11 1L8.5 8.5l.94-2.06 2.06-.94-2.06-.94L8.5 2.5l-.94 2.06-2.06.94zm10 10l.94 2.06.94-2.06 2.06-.94-2.06-.94-.94-2.06-.94 2.06-2.06.94z\"/><path d=\"M17.41 7.96l-1.37-1.37c-.4-.4-.92-.59-1.43-.59-.52 0-1.04.2-1.43.59L10.3 9.45l-7.72 7.72c-.78.78-.78 2.05 0 2.83L4 21.41c.39.39.9.59 1.41.59.51 0 1.02-.2 1.41-.59l7.78-7.78 2.81-2.81c.8-.78.8-2.07 0-2.86zM5.41 20L4 18.59l7.72-7.72 1.47 1.35L5.41 20z\"/>\n",
       "  </svg>\n",
       "      </button>\n",
       "      \n",
       "  <style>\n",
       "    .colab-df-container {\n",
       "      display:flex;\n",
       "      flex-wrap:wrap;\n",
       "      gap: 12px;\n",
       "    }\n",
       "\n",
       "    .colab-df-convert {\n",
       "      background-color: #E8F0FE;\n",
       "      border: none;\n",
       "      border-radius: 50%;\n",
       "      cursor: pointer;\n",
       "      display: none;\n",
       "      fill: #1967D2;\n",
       "      height: 32px;\n",
       "      padding: 0 0 0 0;\n",
       "      width: 32px;\n",
       "    }\n",
       "\n",
       "    .colab-df-convert:hover {\n",
       "      background-color: #E2EBFA;\n",
       "      box-shadow: 0px 1px 2px rgba(60, 64, 67, 0.3), 0px 1px 3px 1px rgba(60, 64, 67, 0.15);\n",
       "      fill: #174EA6;\n",
       "    }\n",
       "\n",
       "    [theme=dark] .colab-df-convert {\n",
       "      background-color: #3B4455;\n",
       "      fill: #D2E3FC;\n",
       "    }\n",
       "\n",
       "    [theme=dark] .colab-df-convert:hover {\n",
       "      background-color: #434B5C;\n",
       "      box-shadow: 0px 1px 3px 1px rgba(0, 0, 0, 0.15);\n",
       "      filter: drop-shadow(0px 1px 2px rgba(0, 0, 0, 0.3));\n",
       "      fill: #FFFFFF;\n",
       "    }\n",
       "  </style>\n",
       "\n",
       "      <script>\n",
       "        const buttonEl =\n",
       "          document.querySelector('#df-eb4aaa30-3b33-4225-850d-d3c4f7212b63 button.colab-df-convert');\n",
       "        buttonEl.style.display =\n",
       "          google.colab.kernel.accessAllowed ? 'block' : 'none';\n",
       "\n",
       "        async function convertToInteractive(key) {\n",
       "          const element = document.querySelector('#df-eb4aaa30-3b33-4225-850d-d3c4f7212b63');\n",
       "          const dataTable =\n",
       "            await google.colab.kernel.invokeFunction('convertToInteractive',\n",
       "                                                     [key], {});\n",
       "          if (!dataTable) return;\n",
       "\n",
       "          const docLinkHtml = 'Like what you see? Visit the ' +\n",
       "            '<a target=\"_blank\" href=https://colab.research.google.com/notebooks/data_table.ipynb>data table notebook</a>'\n",
       "            + ' to learn more about interactive tables.';\n",
       "          element.innerHTML = '';\n",
       "          dataTable['output_type'] = 'display_data';\n",
       "          await google.colab.output.renderOutput(dataTable, element);\n",
       "          const docLink = document.createElement('div');\n",
       "          docLink.innerHTML = docLinkHtml;\n",
       "          element.appendChild(docLink);\n",
       "        }\n",
       "      </script>\n",
       "    </div>\n",
       "  </div>\n",
       "  "
      ],
      "text/plain": [
       "          type                                        description\n",
       "0  3d printing  3D Printed Products Can Improve Health Outcome...\n",
       "1  3d printing  This could greatly increase the quality of lif...\n",
       "2  3d printing  Controlled Print Chamber: Controlled process e...\n",
       "3  3d printing  Spark will make visualization of prints much e...\n",
       "4  3d printing  Affordable 3D Printing for everyone With the U..."
      ]
     },
     "execution_count": 3,
     "metadata": {},
     "output_type": "execute_result"
    }
   ],
   "source": [
    "#Load data file\n",
    "df = pd.read_csv(\"/content/drive/MyDrive/AM Thesis/topic-classification-NN-main/UKP_ASPECT.tsv\", sep='\\t')\n",
    "\n",
    "df['sentence_1'] = df['sentence_1'] + ' . ' + df['sentence_2']\n",
    "df = df.drop(['label'], axis = 1)\n",
    "df = df.drop(['sentence_2'], axis = 1)\n",
    "df = df.rename(columns = {'sentence_1': 'description', 'topic': 'type'})\n",
    "df.head()"
   ]
  },
  {
   "cell_type": "markdown",
   "metadata": {
    "id": "OAmpuC2K2UCE"
   },
   "source": [
    "## 2. Preprocess text data"
   ]
  },
  {
   "cell_type": "code",
   "execution_count": 4,
   "metadata": {
    "colab": {
     "base_uri": "https://localhost:8080/"
    },
    "id": "f5YVhGZb2UCE",
    "outputId": "882fb371-3c7c-4760-db60-3f984ea51ac1"
   },
   "outputs": [
    {
     "name": "stderr",
     "output_type": "stream",
     "text": [
      "<ipython-input-4-cba1bdf275c6>:7: FutureWarning: The default value of regex will change from True to False in a future version. In addition, single character regular expressions will *not* be treated as literal strings when regex=True.\n",
      "  df[\"description_1\"] = df[\"description_1\"].str.replace(punc, \" \")\n"
     ]
    }
   ],
   "source": [
    "# Special characters and punctuation\n",
    "punc_list = list(\"?:!.,;()\")\n",
    "df[\"description_1\"] = df[\"description\"].str.replace(\"\\n\", \" \")\n",
    "df[\"description_1\"] = df[\"description_1\"].str.replace('\"', \" \")\n",
    "df[\"description_1\"] = df[\"description_1\"].str.replace(\"'s\", \" \")\n",
    "for punc in punc_list:\n",
    "    df[\"description_1\"] = df[\"description_1\"].str.replace(punc, \" \")\n",
    "    \n",
    "#lowering cases\n",
    "df[\"description_1\"] = df[\"description_1\"].str.lower()"
   ]
  },
  {
   "cell_type": "code",
   "execution_count": 7,
   "metadata": {
    "colab": {
     "base_uri": "https://localhost:8080/"
    },
    "id": "6v495enJ2UCF",
    "outputId": "d513e16b-1665-452e-ffd0-08b625bb7738"
   },
   "outputs": [
    {
     "name": "stderr",
     "output_type": "stream",
     "text": [
      "[nltk_data] Downloading package punkt to /root/nltk_data...\n",
      "[nltk_data]   Package punkt is already up-to-date!\n",
      "[nltk_data] Downloading package wordnet to /root/nltk_data...\n",
      "[nltk_data]   Package wordnet is already up-to-date!\n",
      "[nltk_data] Downloading package omw-1.4 to /root/nltk_data...\n"
     ]
    }
   ],
   "source": [
    "#stemming and lemmatization\n",
    "nltk.download('punkt')\n",
    "nltk.download('wordnet')\n",
    "nltk.download('omw-1.4')\n",
    "\n",
    "wordnet_lemmatizer = WordNetLemmatizer()\n",
    "nrows = len(df)\n",
    "lemmatized_text_list = []\n",
    "\n",
    "for row in range(0, nrows):\n",
    "    \n",
    "    # Create an empty list containing lemmatized words\n",
    "    lemmatized_list = []\n",
    "    \n",
    "    # Save the text and its words into an object\n",
    "    text = df.loc[row]['description_1']\n",
    "    text_words = text.split(\" \")\n",
    "\n",
    "    # Iterate through every word to lemmatize\n",
    "    for word in text_words:\n",
    "        lemmatized_list.append(wordnet_lemmatizer.lemmatize(word, pos=\"v\"))\n",
    "        \n",
    "    # Join the list\n",
    "    lemmatized_text = \" \".join(lemmatized_list)\n",
    "    \n",
    "    # Append to the list containing the texts\n",
    "    lemmatized_text_list.append(lemmatized_text)\n"
   ]
  },
  {
   "cell_type": "code",
   "execution_count": 8,
   "metadata": {
    "colab": {
     "base_uri": "https://localhost:8080/"
    },
    "id": "zmNMs5H42UCF",
    "outputId": "13d41e12-49a5-4ece-ab50-4b9a9d4bee30"
   },
   "outputs": [
    {
     "name": "stderr",
     "output_type": "stream",
     "text": [
      "[nltk_data] Downloading package stopwords to /root/nltk_data...\n",
      "[nltk_data]   Unzipping corpora/stopwords.zip.\n",
      "<ipython-input-8-cc3d58ac41a5>:20: FutureWarning: The default value of regex will change from True to False in a future version.\n",
      "  df['description_1'] = df['description_1'].str.replace(regex_stopword, '')\n"
     ]
    }
   ],
   "source": [
    "#stopwords\n",
    "nltk.download('stopwords')\n",
    "stop_words = list(stopwords.words('english'))\n",
    "\n",
    "for stop_word in stop_words:\n",
    "\n",
    "    regex_stopword = r\"\\b\" + stop_word + r\"\\b\"\n",
    "    df['description_1'] = df['description_1'].str.replace(regex_stopword, '')"
   ]
  },
  {
   "cell_type": "code",
   "execution_count": 9,
   "metadata": {
    "colab": {
     "base_uri": "https://localhost:8080/",
     "height": 424
    },
    "id": "B2iEPdg_2UCG",
    "outputId": "34aea55d-e9e4-4b53-8f90-6d6b8c2ea000"
   },
   "outputs": [
    {
     "data": {
      "text/html": [
       "\n",
       "  <div id=\"df-37d3f219-94b3-4806-b0bc-6d7cd979f063\">\n",
       "    <div class=\"colab-df-container\">\n",
       "      <div>\n",
       "<style scoped>\n",
       "    .dataframe tbody tr th:only-of-type {\n",
       "        vertical-align: middle;\n",
       "    }\n",
       "\n",
       "    .dataframe tbody tr th {\n",
       "        vertical-align: top;\n",
       "    }\n",
       "\n",
       "    .dataframe thead th {\n",
       "        text-align: right;\n",
       "    }\n",
       "</style>\n",
       "<table border=\"1\" class=\"dataframe\">\n",
       "  <thead>\n",
       "    <tr style=\"text-align: right;\">\n",
       "      <th></th>\n",
       "      <th>type</th>\n",
       "      <th>description</th>\n",
       "      <th>description_1</th>\n",
       "      <th>description_3</th>\n",
       "    </tr>\n",
       "  </thead>\n",
       "  <tbody>\n",
       "    <tr>\n",
       "      <th>0</th>\n",
       "      <td>3d printing</td>\n",
       "      <td>3D Printed Products Can Improve Health Outcome...</td>\n",
       "      <td>3d printed products  improve health outcomes  ...</td>\n",
       "      <td>d printed products  improve health outcomes  r...</td>\n",
       "    </tr>\n",
       "    <tr>\n",
       "      <th>1</th>\n",
       "      <td>3d printing</td>\n",
       "      <td>This could greatly increase the quality of lif...</td>\n",
       "      <td>could greatly increase  quality  life   curre...</td>\n",
       "      <td>could greatly increase  quality  life   curre...</td>\n",
       "    </tr>\n",
       "    <tr>\n",
       "      <th>2</th>\n",
       "      <td>3d printing</td>\n",
       "      <td>Controlled Print Chamber: Controlled process e...</td>\n",
       "      <td>controlled print chamber  controlled process e...</td>\n",
       "      <td>controlled print chamber  controlled process e...</td>\n",
       "    </tr>\n",
       "    <tr>\n",
       "      <th>3</th>\n",
       "      <td>3d printing</td>\n",
       "      <td>Spark will make visualization of prints much e...</td>\n",
       "      <td>spark  make visualization  prints much easier ...</td>\n",
       "      <td>spark  make visualization  prints much easier ...</td>\n",
       "    </tr>\n",
       "    <tr>\n",
       "      <th>4</th>\n",
       "      <td>3d printing</td>\n",
       "      <td>Affordable 3D Printing for everyone With the U...</td>\n",
       "      <td>affordable 3d printing  everyone    mini 3d pr...</td>\n",
       "      <td>affordable d printing  everyone    mini d prin...</td>\n",
       "    </tr>\n",
       "    <tr>\n",
       "      <th>...</th>\n",
       "      <td>...</td>\n",
       "      <td>...</td>\n",
       "      <td>...</td>\n",
       "      <td>...</td>\n",
       "    </tr>\n",
       "    <tr>\n",
       "      <th>3590</th>\n",
       "      <td>Wind power</td>\n",
       "      <td>Wind power reduces pollution, is sustainable a...</td>\n",
       "      <td>wind power reduces pollution   sustainable   l...</td>\n",
       "      <td>wind power reduces pollution   sustainable   l...</td>\n",
       "    </tr>\n",
       "    <tr>\n",
       "      <th>3591</th>\n",
       "      <td>Wind power</td>\n",
       "      <td>The wind turbine 100 may be installed on any t...</td>\n",
       "      <td>wind turbine 100 may  installed   terrain pro...</td>\n",
       "      <td>wind turbine  may  installed   terrain provid...</td>\n",
       "    </tr>\n",
       "    <tr>\n",
       "      <th>3592</th>\n",
       "      <td>Wind power</td>\n",
       "      <td>MSUs power flow controller can be installed an...</td>\n",
       "      <td>msus power flow controller   installed anywher...</td>\n",
       "      <td>msus power flow controller   installed anywher...</td>\n",
       "    </tr>\n",
       "    <tr>\n",
       "      <th>3593</th>\n",
       "      <td>Wind power</td>\n",
       "      <td>Our mission is to allow people to meet through...</td>\n",
       "      <td>mission   allow people  meet  3d avatars    e...</td>\n",
       "      <td>mission   allow people  meet  d avatars    ea...</td>\n",
       "    </tr>\n",
       "    <tr>\n",
       "      <th>3594</th>\n",
       "      <td>Wind power</td>\n",
       "      <td>And every wind turbine slows the wind, thus re...</td>\n",
       "      <td>every wind turbine slows  wind  thus reducing...</td>\n",
       "      <td>every wind turbine slows  wind  thus reducing...</td>\n",
       "    </tr>\n",
       "  </tbody>\n",
       "</table>\n",
       "<p>3595 rows × 4 columns</p>\n",
       "</div>\n",
       "      <button class=\"colab-df-convert\" onclick=\"convertToInteractive('df-37d3f219-94b3-4806-b0bc-6d7cd979f063')\"\n",
       "              title=\"Convert this dataframe to an interactive table.\"\n",
       "              style=\"display:none;\">\n",
       "        \n",
       "  <svg xmlns=\"http://www.w3.org/2000/svg\" height=\"24px\"viewBox=\"0 0 24 24\"\n",
       "       width=\"24px\">\n",
       "    <path d=\"M0 0h24v24H0V0z\" fill=\"none\"/>\n",
       "    <path d=\"M18.56 5.44l.94 2.06.94-2.06 2.06-.94-2.06-.94-.94-2.06-.94 2.06-2.06.94zm-11 1L8.5 8.5l.94-2.06 2.06-.94-2.06-.94L8.5 2.5l-.94 2.06-2.06.94zm10 10l.94 2.06.94-2.06 2.06-.94-2.06-.94-.94-2.06-.94 2.06-2.06.94z\"/><path d=\"M17.41 7.96l-1.37-1.37c-.4-.4-.92-.59-1.43-.59-.52 0-1.04.2-1.43.59L10.3 9.45l-7.72 7.72c-.78.78-.78 2.05 0 2.83L4 21.41c.39.39.9.59 1.41.59.51 0 1.02-.2 1.41-.59l7.78-7.78 2.81-2.81c.8-.78.8-2.07 0-2.86zM5.41 20L4 18.59l7.72-7.72 1.47 1.35L5.41 20z\"/>\n",
       "  </svg>\n",
       "      </button>\n",
       "      \n",
       "  <style>\n",
       "    .colab-df-container {\n",
       "      display:flex;\n",
       "      flex-wrap:wrap;\n",
       "      gap: 12px;\n",
       "    }\n",
       "\n",
       "    .colab-df-convert {\n",
       "      background-color: #E8F0FE;\n",
       "      border: none;\n",
       "      border-radius: 50%;\n",
       "      cursor: pointer;\n",
       "      display: none;\n",
       "      fill: #1967D2;\n",
       "      height: 32px;\n",
       "      padding: 0 0 0 0;\n",
       "      width: 32px;\n",
       "    }\n",
       "\n",
       "    .colab-df-convert:hover {\n",
       "      background-color: #E2EBFA;\n",
       "      box-shadow: 0px 1px 2px rgba(60, 64, 67, 0.3), 0px 1px 3px 1px rgba(60, 64, 67, 0.15);\n",
       "      fill: #174EA6;\n",
       "    }\n",
       "\n",
       "    [theme=dark] .colab-df-convert {\n",
       "      background-color: #3B4455;\n",
       "      fill: #D2E3FC;\n",
       "    }\n",
       "\n",
       "    [theme=dark] .colab-df-convert:hover {\n",
       "      background-color: #434B5C;\n",
       "      box-shadow: 0px 1px 3px 1px rgba(0, 0, 0, 0.15);\n",
       "      filter: drop-shadow(0px 1px 2px rgba(0, 0, 0, 0.3));\n",
       "      fill: #FFFFFF;\n",
       "    }\n",
       "  </style>\n",
       "\n",
       "      <script>\n",
       "        const buttonEl =\n",
       "          document.querySelector('#df-37d3f219-94b3-4806-b0bc-6d7cd979f063 button.colab-df-convert');\n",
       "        buttonEl.style.display =\n",
       "          google.colab.kernel.accessAllowed ? 'block' : 'none';\n",
       "\n",
       "        async function convertToInteractive(key) {\n",
       "          const element = document.querySelector('#df-37d3f219-94b3-4806-b0bc-6d7cd979f063');\n",
       "          const dataTable =\n",
       "            await google.colab.kernel.invokeFunction('convertToInteractive',\n",
       "                                                     [key], {});\n",
       "          if (!dataTable) return;\n",
       "\n",
       "          const docLinkHtml = 'Like what you see? Visit the ' +\n",
       "            '<a target=\"_blank\" href=https://colab.research.google.com/notebooks/data_table.ipynb>data table notebook</a>'\n",
       "            + ' to learn more about interactive tables.';\n",
       "          element.innerHTML = '';\n",
       "          dataTable['output_type'] = 'display_data';\n",
       "          await google.colab.output.renderOutput(dataTable, element);\n",
       "          const docLink = document.createElement('div');\n",
       "          docLink.innerHTML = docLinkHtml;\n",
       "          element.appendChild(docLink);\n",
       "        }\n",
       "      </script>\n",
       "    </div>\n",
       "  </div>\n",
       "  "
      ],
      "text/plain": [
       "             type                                        description  \\\n",
       "0     3d printing  3D Printed Products Can Improve Health Outcome...   \n",
       "1     3d printing  This could greatly increase the quality of lif...   \n",
       "2     3d printing  Controlled Print Chamber: Controlled process e...   \n",
       "3     3d printing  Spark will make visualization of prints much e...   \n",
       "4     3d printing  Affordable 3D Printing for everyone With the U...   \n",
       "...           ...                                                ...   \n",
       "3590   Wind power  Wind power reduces pollution, is sustainable a...   \n",
       "3591   Wind power  The wind turbine 100 may be installed on any t...   \n",
       "3592   Wind power  MSUs power flow controller can be installed an...   \n",
       "3593   Wind power  Our mission is to allow people to meet through...   \n",
       "3594   Wind power  And every wind turbine slows the wind, thus re...   \n",
       "\n",
       "                                          description_1  \\\n",
       "0     3d printed products  improve health outcomes  ...   \n",
       "1      could greatly increase  quality  life   curre...   \n",
       "2     controlled print chamber  controlled process e...   \n",
       "3     spark  make visualization  prints much easier ...   \n",
       "4     affordable 3d printing  everyone    mini 3d pr...   \n",
       "...                                                 ...   \n",
       "3590  wind power reduces pollution   sustainable   l...   \n",
       "3591   wind turbine 100 may  installed   terrain pro...   \n",
       "3592  msus power flow controller   installed anywher...   \n",
       "3593   mission   allow people  meet  3d avatars    e...   \n",
       "3594   every wind turbine slows  wind  thus reducing...   \n",
       "\n",
       "                                          description_3  \n",
       "0     d printed products  improve health outcomes  r...  \n",
       "1      could greatly increase  quality  life   curre...  \n",
       "2     controlled print chamber  controlled process e...  \n",
       "3     spark  make visualization  prints much easier ...  \n",
       "4     affordable d printing  everyone    mini d prin...  \n",
       "...                                                 ...  \n",
       "3590  wind power reduces pollution   sustainable   l...  \n",
       "3591   wind turbine  may  installed   terrain provid...  \n",
       "3592  msus power flow controller   installed anywher...  \n",
       "3593   mission   allow people  meet  d avatars    ea...  \n",
       "3594   every wind turbine slows  wind  thus reducing...  \n",
       "\n",
       "[3595 rows x 4 columns]"
      ]
     },
     "execution_count": 9,
     "metadata": {},
     "output_type": "execute_result"
    }
   ],
   "source": [
    "#remove numbers\n",
    "pattern = r'[0-9]'\n",
    "remove_number = []\n",
    "for text in df[\"description_1\"].tolist():\n",
    "    remove_number.append(re.sub(pattern, '', text))\n",
    "    \n",
    "df[\"description_3\"] = remove_number\n",
    "df"
   ]
  },
  {
   "cell_type": "code",
   "execution_count": 10,
   "metadata": {
    "id": "IqVhoPiR2UCG"
   },
   "outputs": [],
   "source": [
    "list_columns = [\"description_3\", \"type\"]\n",
    "df2 = df[list_columns]\n",
    "\n",
    "df2 = df2.rename(columns={'description_3': 'description'})"
   ]
  },
  {
   "cell_type": "code",
   "execution_count": 11,
   "metadata": {
    "colab": {
     "base_uri": "https://localhost:8080/",
     "height": 424
    },
    "id": "9B_ZxVbM2UCG",
    "outputId": "8ffa521d-d99e-420f-826d-d6e7ececb7eb"
   },
   "outputs": [
    {
     "data": {
      "text/html": [
       "\n",
       "  <div id=\"df-6b07abca-3809-424a-8e65-717fa1725d11\">\n",
       "    <div class=\"colab-df-container\">\n",
       "      <div>\n",
       "<style scoped>\n",
       "    .dataframe tbody tr th:only-of-type {\n",
       "        vertical-align: middle;\n",
       "    }\n",
       "\n",
       "    .dataframe tbody tr th {\n",
       "        vertical-align: top;\n",
       "    }\n",
       "\n",
       "    .dataframe thead th {\n",
       "        text-align: right;\n",
       "    }\n",
       "</style>\n",
       "<table border=\"1\" class=\"dataframe\">\n",
       "  <thead>\n",
       "    <tr style=\"text-align: right;\">\n",
       "      <th></th>\n",
       "      <th>description</th>\n",
       "      <th>type</th>\n",
       "    </tr>\n",
       "  </thead>\n",
       "  <tbody>\n",
       "    <tr>\n",
       "      <th>0</th>\n",
       "      <td>d printed products  improve health outcomes  r...</td>\n",
       "      <td>3d printing</td>\n",
       "    </tr>\n",
       "    <tr>\n",
       "      <th>1</th>\n",
       "      <td>could greatly increase  quality  life   curre...</td>\n",
       "      <td>3d printing</td>\n",
       "    </tr>\n",
       "    <tr>\n",
       "      <th>2</th>\n",
       "      <td>controlled print chamber  controlled process e...</td>\n",
       "      <td>3d printing</td>\n",
       "    </tr>\n",
       "    <tr>\n",
       "      <th>3</th>\n",
       "      <td>spark  make visualization  prints much easier ...</td>\n",
       "      <td>3d printing</td>\n",
       "    </tr>\n",
       "    <tr>\n",
       "      <th>4</th>\n",
       "      <td>affordable d printing  everyone    mini d prin...</td>\n",
       "      <td>3d printing</td>\n",
       "    </tr>\n",
       "    <tr>\n",
       "      <th>...</th>\n",
       "      <td>...</td>\n",
       "      <td>...</td>\n",
       "    </tr>\n",
       "    <tr>\n",
       "      <th>3590</th>\n",
       "      <td>wind power reduces pollution   sustainable   l...</td>\n",
       "      <td>Wind power</td>\n",
       "    </tr>\n",
       "    <tr>\n",
       "      <th>3591</th>\n",
       "      <td>wind turbine  may  installed   terrain provid...</td>\n",
       "      <td>Wind power</td>\n",
       "    </tr>\n",
       "    <tr>\n",
       "      <th>3592</th>\n",
       "      <td>msus power flow controller   installed anywher...</td>\n",
       "      <td>Wind power</td>\n",
       "    </tr>\n",
       "    <tr>\n",
       "      <th>3593</th>\n",
       "      <td>mission   allow people  meet  d avatars    ea...</td>\n",
       "      <td>Wind power</td>\n",
       "    </tr>\n",
       "    <tr>\n",
       "      <th>3594</th>\n",
       "      <td>every wind turbine slows  wind  thus reducing...</td>\n",
       "      <td>Wind power</td>\n",
       "    </tr>\n",
       "  </tbody>\n",
       "</table>\n",
       "<p>3595 rows × 2 columns</p>\n",
       "</div>\n",
       "      <button class=\"colab-df-convert\" onclick=\"convertToInteractive('df-6b07abca-3809-424a-8e65-717fa1725d11')\"\n",
       "              title=\"Convert this dataframe to an interactive table.\"\n",
       "              style=\"display:none;\">\n",
       "        \n",
       "  <svg xmlns=\"http://www.w3.org/2000/svg\" height=\"24px\"viewBox=\"0 0 24 24\"\n",
       "       width=\"24px\">\n",
       "    <path d=\"M0 0h24v24H0V0z\" fill=\"none\"/>\n",
       "    <path d=\"M18.56 5.44l.94 2.06.94-2.06 2.06-.94-2.06-.94-.94-2.06-.94 2.06-2.06.94zm-11 1L8.5 8.5l.94-2.06 2.06-.94-2.06-.94L8.5 2.5l-.94 2.06-2.06.94zm10 10l.94 2.06.94-2.06 2.06-.94-2.06-.94-.94-2.06-.94 2.06-2.06.94z\"/><path d=\"M17.41 7.96l-1.37-1.37c-.4-.4-.92-.59-1.43-.59-.52 0-1.04.2-1.43.59L10.3 9.45l-7.72 7.72c-.78.78-.78 2.05 0 2.83L4 21.41c.39.39.9.59 1.41.59.51 0 1.02-.2 1.41-.59l7.78-7.78 2.81-2.81c.8-.78.8-2.07 0-2.86zM5.41 20L4 18.59l7.72-7.72 1.47 1.35L5.41 20z\"/>\n",
       "  </svg>\n",
       "      </button>\n",
       "      \n",
       "  <style>\n",
       "    .colab-df-container {\n",
       "      display:flex;\n",
       "      flex-wrap:wrap;\n",
       "      gap: 12px;\n",
       "    }\n",
       "\n",
       "    .colab-df-convert {\n",
       "      background-color: #E8F0FE;\n",
       "      border: none;\n",
       "      border-radius: 50%;\n",
       "      cursor: pointer;\n",
       "      display: none;\n",
       "      fill: #1967D2;\n",
       "      height: 32px;\n",
       "      padding: 0 0 0 0;\n",
       "      width: 32px;\n",
       "    }\n",
       "\n",
       "    .colab-df-convert:hover {\n",
       "      background-color: #E2EBFA;\n",
       "      box-shadow: 0px 1px 2px rgba(60, 64, 67, 0.3), 0px 1px 3px 1px rgba(60, 64, 67, 0.15);\n",
       "      fill: #174EA6;\n",
       "    }\n",
       "\n",
       "    [theme=dark] .colab-df-convert {\n",
       "      background-color: #3B4455;\n",
       "      fill: #D2E3FC;\n",
       "    }\n",
       "\n",
       "    [theme=dark] .colab-df-convert:hover {\n",
       "      background-color: #434B5C;\n",
       "      box-shadow: 0px 1px 3px 1px rgba(0, 0, 0, 0.15);\n",
       "      filter: drop-shadow(0px 1px 2px rgba(0, 0, 0, 0.3));\n",
       "      fill: #FFFFFF;\n",
       "    }\n",
       "  </style>\n",
       "\n",
       "      <script>\n",
       "        const buttonEl =\n",
       "          document.querySelector('#df-6b07abca-3809-424a-8e65-717fa1725d11 button.colab-df-convert');\n",
       "        buttonEl.style.display =\n",
       "          google.colab.kernel.accessAllowed ? 'block' : 'none';\n",
       "\n",
       "        async function convertToInteractive(key) {\n",
       "          const element = document.querySelector('#df-6b07abca-3809-424a-8e65-717fa1725d11');\n",
       "          const dataTable =\n",
       "            await google.colab.kernel.invokeFunction('convertToInteractive',\n",
       "                                                     [key], {});\n",
       "          if (!dataTable) return;\n",
       "\n",
       "          const docLinkHtml = 'Like what you see? Visit the ' +\n",
       "            '<a target=\"_blank\" href=https://colab.research.google.com/notebooks/data_table.ipynb>data table notebook</a>'\n",
       "            + ' to learn more about interactive tables.';\n",
       "          element.innerHTML = '';\n",
       "          dataTable['output_type'] = 'display_data';\n",
       "          await google.colab.output.renderOutput(dataTable, element);\n",
       "          const docLink = document.createElement('div');\n",
       "          docLink.innerHTML = docLinkHtml;\n",
       "          element.appendChild(docLink);\n",
       "        }\n",
       "      </script>\n",
       "    </div>\n",
       "  </div>\n",
       "  "
      ],
      "text/plain": [
       "                                            description         type\n",
       "0     d printed products  improve health outcomes  r...  3d printing\n",
       "1      could greatly increase  quality  life   curre...  3d printing\n",
       "2     controlled print chamber  controlled process e...  3d printing\n",
       "3     spark  make visualization  prints much easier ...  3d printing\n",
       "4     affordable d printing  everyone    mini d prin...  3d printing\n",
       "...                                                 ...          ...\n",
       "3590  wind power reduces pollution   sustainable   l...   Wind power\n",
       "3591   wind turbine  may  installed   terrain provid...   Wind power\n",
       "3592  msus power flow controller   installed anywher...   Wind power\n",
       "3593   mission   allow people  meet  d avatars    ea...   Wind power\n",
       "3594   every wind turbine slows  wind  thus reducing...   Wind power\n",
       "\n",
       "[3595 rows x 2 columns]"
      ]
     },
     "execution_count": 11,
     "metadata": {},
     "output_type": "execute_result"
    }
   ],
   "source": [
    "df2"
   ]
  },
  {
   "cell_type": "markdown",
   "metadata": {
    "id": "Xp9s_kbt2UCH"
   },
   "source": [
    "#### Label encoding"
   ]
  },
  {
   "cell_type": "code",
   "execution_count": 12,
   "metadata": {
    "colab": {
     "base_uri": "https://localhost:8080/",
     "height": 206
    },
    "id": "w92t7V1c2UCH",
    "outputId": "64bd7ed0-0545-4087-c443-113deb4356d1"
   },
   "outputs": [
    {
     "data": {
      "text/html": [
       "\n",
       "  <div id=\"df-bea954a8-ec3a-4280-aff8-5fc51ecd2f4b\">\n",
       "    <div class=\"colab-df-container\">\n",
       "      <div>\n",
       "<style scoped>\n",
       "    .dataframe tbody tr th:only-of-type {\n",
       "        vertical-align: middle;\n",
       "    }\n",
       "\n",
       "    .dataframe tbody tr th {\n",
       "        vertical-align: top;\n",
       "    }\n",
       "\n",
       "    .dataframe thead th {\n",
       "        text-align: right;\n",
       "    }\n",
       "</style>\n",
       "<table border=\"1\" class=\"dataframe\">\n",
       "  <thead>\n",
       "    <tr style=\"text-align: right;\">\n",
       "      <th></th>\n",
       "      <th>description</th>\n",
       "      <th>type</th>\n",
       "      <th>type_code</th>\n",
       "    </tr>\n",
       "  </thead>\n",
       "  <tbody>\n",
       "    <tr>\n",
       "      <th>3590</th>\n",
       "      <td>wind power reduces pollution   sustainable   l...</td>\n",
       "      <td>Wind power</td>\n",
       "      <td>27</td>\n",
       "    </tr>\n",
       "    <tr>\n",
       "      <th>3591</th>\n",
       "      <td>wind turbine  may  installed   terrain provid...</td>\n",
       "      <td>Wind power</td>\n",
       "      <td>27</td>\n",
       "    </tr>\n",
       "    <tr>\n",
       "      <th>3592</th>\n",
       "      <td>msus power flow controller   installed anywher...</td>\n",
       "      <td>Wind power</td>\n",
       "      <td>27</td>\n",
       "    </tr>\n",
       "    <tr>\n",
       "      <th>3593</th>\n",
       "      <td>mission   allow people  meet  d avatars    ea...</td>\n",
       "      <td>Wind power</td>\n",
       "      <td>27</td>\n",
       "    </tr>\n",
       "    <tr>\n",
       "      <th>3594</th>\n",
       "      <td>every wind turbine slows  wind  thus reducing...</td>\n",
       "      <td>Wind power</td>\n",
       "      <td>27</td>\n",
       "    </tr>\n",
       "  </tbody>\n",
       "</table>\n",
       "</div>\n",
       "      <button class=\"colab-df-convert\" onclick=\"convertToInteractive('df-bea954a8-ec3a-4280-aff8-5fc51ecd2f4b')\"\n",
       "              title=\"Convert this dataframe to an interactive table.\"\n",
       "              style=\"display:none;\">\n",
       "        \n",
       "  <svg xmlns=\"http://www.w3.org/2000/svg\" height=\"24px\"viewBox=\"0 0 24 24\"\n",
       "       width=\"24px\">\n",
       "    <path d=\"M0 0h24v24H0V0z\" fill=\"none\"/>\n",
       "    <path d=\"M18.56 5.44l.94 2.06.94-2.06 2.06-.94-2.06-.94-.94-2.06-.94 2.06-2.06.94zm-11 1L8.5 8.5l.94-2.06 2.06-.94-2.06-.94L8.5 2.5l-.94 2.06-2.06.94zm10 10l.94 2.06.94-2.06 2.06-.94-2.06-.94-.94-2.06-.94 2.06-2.06.94z\"/><path d=\"M17.41 7.96l-1.37-1.37c-.4-.4-.92-.59-1.43-.59-.52 0-1.04.2-1.43.59L10.3 9.45l-7.72 7.72c-.78.78-.78 2.05 0 2.83L4 21.41c.39.39.9.59 1.41.59.51 0 1.02-.2 1.41-.59l7.78-7.78 2.81-2.81c.8-.78.8-2.07 0-2.86zM5.41 20L4 18.59l7.72-7.72 1.47 1.35L5.41 20z\"/>\n",
       "  </svg>\n",
       "      </button>\n",
       "      \n",
       "  <style>\n",
       "    .colab-df-container {\n",
       "      display:flex;\n",
       "      flex-wrap:wrap;\n",
       "      gap: 12px;\n",
       "    }\n",
       "\n",
       "    .colab-df-convert {\n",
       "      background-color: #E8F0FE;\n",
       "      border: none;\n",
       "      border-radius: 50%;\n",
       "      cursor: pointer;\n",
       "      display: none;\n",
       "      fill: #1967D2;\n",
       "      height: 32px;\n",
       "      padding: 0 0 0 0;\n",
       "      width: 32px;\n",
       "    }\n",
       "\n",
       "    .colab-df-convert:hover {\n",
       "      background-color: #E2EBFA;\n",
       "      box-shadow: 0px 1px 2px rgba(60, 64, 67, 0.3), 0px 1px 3px 1px rgba(60, 64, 67, 0.15);\n",
       "      fill: #174EA6;\n",
       "    }\n",
       "\n",
       "    [theme=dark] .colab-df-convert {\n",
       "      background-color: #3B4455;\n",
       "      fill: #D2E3FC;\n",
       "    }\n",
       "\n",
       "    [theme=dark] .colab-df-convert:hover {\n",
       "      background-color: #434B5C;\n",
       "      box-shadow: 0px 1px 3px 1px rgba(0, 0, 0, 0.15);\n",
       "      filter: drop-shadow(0px 1px 2px rgba(0, 0, 0, 0.3));\n",
       "      fill: #FFFFFF;\n",
       "    }\n",
       "  </style>\n",
       "\n",
       "      <script>\n",
       "        const buttonEl =\n",
       "          document.querySelector('#df-bea954a8-ec3a-4280-aff8-5fc51ecd2f4b button.colab-df-convert');\n",
       "        buttonEl.style.display =\n",
       "          google.colab.kernel.accessAllowed ? 'block' : 'none';\n",
       "\n",
       "        async function convertToInteractive(key) {\n",
       "          const element = document.querySelector('#df-bea954a8-ec3a-4280-aff8-5fc51ecd2f4b');\n",
       "          const dataTable =\n",
       "            await google.colab.kernel.invokeFunction('convertToInteractive',\n",
       "                                                     [key], {});\n",
       "          if (!dataTable) return;\n",
       "\n",
       "          const docLinkHtml = 'Like what you see? Visit the ' +\n",
       "            '<a target=\"_blank\" href=https://colab.research.google.com/notebooks/data_table.ipynb>data table notebook</a>'\n",
       "            + ' to learn more about interactive tables.';\n",
       "          element.innerHTML = '';\n",
       "          dataTable['output_type'] = 'display_data';\n",
       "          await google.colab.output.renderOutput(dataTable, element);\n",
       "          const docLink = document.createElement('div');\n",
       "          docLink.innerHTML = docLinkHtml;\n",
       "          element.appendChild(docLink);\n",
       "        }\n",
       "      </script>\n",
       "    </div>\n",
       "  </div>\n",
       "  "
      ],
      "text/plain": [
       "                                            description        type  type_code\n",
       "3590  wind power reduces pollution   sustainable   l...  Wind power         27\n",
       "3591   wind turbine  may  installed   terrain provid...  Wind power         27\n",
       "3592  msus power flow controller   installed anywher...  Wind power         27\n",
       "3593   mission   allow people  meet  d avatars    ea...  Wind power         27\n",
       "3594   every wind turbine slows  wind  thus reducing...  Wind power         27"
      ]
     },
     "execution_count": 12,
     "metadata": {},
     "output_type": "execute_result"
    }
   ],
   "source": [
    "category_codes = {'3d printing': 0}\n",
    "category = df2['type'].unique()\n",
    "for i in range(1, len(category)):\n",
    "    category_codes.update({category[i]: i})\n",
    "\n",
    "# Category mapping\n",
    "df2['type_code'] = df2['type']\n",
    "df2 = df2.replace({'type_code':category_codes})\n",
    "\n",
    "df2.tail()"
   ]
  },
  {
   "cell_type": "markdown",
   "metadata": {
    "id": "CoTC826Q2UCH"
   },
   "source": [
    "#### Split train-test sets"
   ]
  },
  {
   "cell_type": "code",
   "execution_count": 13,
   "metadata": {
    "id": "uX0lypCO2UCI"
   },
   "outputs": [],
   "source": [
    "# imbalanced -- have to assign class weights\n",
    "df2['type'].value_counts()\n",
    "\n",
    "# split train - test\n",
    "X_train, X_test, y_train, y_test = train_test_split(df2['description'], \n",
    "                                                    df2['type'], \n",
    "                                                    test_size=0.15, \n",
    "                                                    random_state=8)"
   ]
  },
  {
   "cell_type": "code",
   "execution_count": 14,
   "metadata": {
    "colab": {
     "base_uri": "https://localhost:8080/",
     "height": 424
    },
    "id": "ORQs-Cee2UCI",
    "outputId": "1262667f-e688-4a42-a004-b83d96d4a409"
   },
   "outputs": [
    {
     "data": {
      "text/html": [
       "\n",
       "  <div id=\"df-3cead1d8-3fa1-4a67-9089-e38ab049aac4\">\n",
       "    <div class=\"colab-df-container\">\n",
       "      <div>\n",
       "<style scoped>\n",
       "    .dataframe tbody tr th:only-of-type {\n",
       "        vertical-align: middle;\n",
       "    }\n",
       "\n",
       "    .dataframe tbody tr th {\n",
       "        vertical-align: top;\n",
       "    }\n",
       "\n",
       "    .dataframe thead th {\n",
       "        text-align: right;\n",
       "    }\n",
       "</style>\n",
       "<table border=\"1\" class=\"dataframe\">\n",
       "  <thead>\n",
       "    <tr style=\"text-align: right;\">\n",
       "      <th></th>\n",
       "      <th>description</th>\n",
       "      <th>type</th>\n",
       "      <th>type_code</th>\n",
       "    </tr>\n",
       "  </thead>\n",
       "  <tbody>\n",
       "    <tr>\n",
       "      <th>0</th>\n",
       "      <td>d printed products  improve health outcomes  r...</td>\n",
       "      <td>3d printing</td>\n",
       "      <td>0</td>\n",
       "    </tr>\n",
       "    <tr>\n",
       "      <th>1</th>\n",
       "      <td>could greatly increase  quality  life   curre...</td>\n",
       "      <td>3d printing</td>\n",
       "      <td>0</td>\n",
       "    </tr>\n",
       "    <tr>\n",
       "      <th>2</th>\n",
       "      <td>controlled print chamber  controlled process e...</td>\n",
       "      <td>3d printing</td>\n",
       "      <td>0</td>\n",
       "    </tr>\n",
       "    <tr>\n",
       "      <th>3</th>\n",
       "      <td>spark  make visualization  prints much easier ...</td>\n",
       "      <td>3d printing</td>\n",
       "      <td>0</td>\n",
       "    </tr>\n",
       "    <tr>\n",
       "      <th>4</th>\n",
       "      <td>affordable d printing  everyone    mini d prin...</td>\n",
       "      <td>3d printing</td>\n",
       "      <td>0</td>\n",
       "    </tr>\n",
       "    <tr>\n",
       "      <th>...</th>\n",
       "      <td>...</td>\n",
       "      <td>...</td>\n",
       "      <td>...</td>\n",
       "    </tr>\n",
       "    <tr>\n",
       "      <th>3590</th>\n",
       "      <td>wind power reduces pollution   sustainable   l...</td>\n",
       "      <td>Wind power</td>\n",
       "      <td>27</td>\n",
       "    </tr>\n",
       "    <tr>\n",
       "      <th>3591</th>\n",
       "      <td>wind turbine  may  installed   terrain provid...</td>\n",
       "      <td>Wind power</td>\n",
       "      <td>27</td>\n",
       "    </tr>\n",
       "    <tr>\n",
       "      <th>3592</th>\n",
       "      <td>msus power flow controller   installed anywher...</td>\n",
       "      <td>Wind power</td>\n",
       "      <td>27</td>\n",
       "    </tr>\n",
       "    <tr>\n",
       "      <th>3593</th>\n",
       "      <td>mission   allow people  meet  d avatars    ea...</td>\n",
       "      <td>Wind power</td>\n",
       "      <td>27</td>\n",
       "    </tr>\n",
       "    <tr>\n",
       "      <th>3594</th>\n",
       "      <td>every wind turbine slows  wind  thus reducing...</td>\n",
       "      <td>Wind power</td>\n",
       "      <td>27</td>\n",
       "    </tr>\n",
       "  </tbody>\n",
       "</table>\n",
       "<p>3595 rows × 3 columns</p>\n",
       "</div>\n",
       "      <button class=\"colab-df-convert\" onclick=\"convertToInteractive('df-3cead1d8-3fa1-4a67-9089-e38ab049aac4')\"\n",
       "              title=\"Convert this dataframe to an interactive table.\"\n",
       "              style=\"display:none;\">\n",
       "        \n",
       "  <svg xmlns=\"http://www.w3.org/2000/svg\" height=\"24px\"viewBox=\"0 0 24 24\"\n",
       "       width=\"24px\">\n",
       "    <path d=\"M0 0h24v24H0V0z\" fill=\"none\"/>\n",
       "    <path d=\"M18.56 5.44l.94 2.06.94-2.06 2.06-.94-2.06-.94-.94-2.06-.94 2.06-2.06.94zm-11 1L8.5 8.5l.94-2.06 2.06-.94-2.06-.94L8.5 2.5l-.94 2.06-2.06.94zm10 10l.94 2.06.94-2.06 2.06-.94-2.06-.94-.94-2.06-.94 2.06-2.06.94z\"/><path d=\"M17.41 7.96l-1.37-1.37c-.4-.4-.92-.59-1.43-.59-.52 0-1.04.2-1.43.59L10.3 9.45l-7.72 7.72c-.78.78-.78 2.05 0 2.83L4 21.41c.39.39.9.59 1.41.59.51 0 1.02-.2 1.41-.59l7.78-7.78 2.81-2.81c.8-.78.8-2.07 0-2.86zM5.41 20L4 18.59l7.72-7.72 1.47 1.35L5.41 20z\"/>\n",
       "  </svg>\n",
       "      </button>\n",
       "      \n",
       "  <style>\n",
       "    .colab-df-container {\n",
       "      display:flex;\n",
       "      flex-wrap:wrap;\n",
       "      gap: 12px;\n",
       "    }\n",
       "\n",
       "    .colab-df-convert {\n",
       "      background-color: #E8F0FE;\n",
       "      border: none;\n",
       "      border-radius: 50%;\n",
       "      cursor: pointer;\n",
       "      display: none;\n",
       "      fill: #1967D2;\n",
       "      height: 32px;\n",
       "      padding: 0 0 0 0;\n",
       "      width: 32px;\n",
       "    }\n",
       "\n",
       "    .colab-df-convert:hover {\n",
       "      background-color: #E2EBFA;\n",
       "      box-shadow: 0px 1px 2px rgba(60, 64, 67, 0.3), 0px 1px 3px 1px rgba(60, 64, 67, 0.15);\n",
       "      fill: #174EA6;\n",
       "    }\n",
       "\n",
       "    [theme=dark] .colab-df-convert {\n",
       "      background-color: #3B4455;\n",
       "      fill: #D2E3FC;\n",
       "    }\n",
       "\n",
       "    [theme=dark] .colab-df-convert:hover {\n",
       "      background-color: #434B5C;\n",
       "      box-shadow: 0px 1px 3px 1px rgba(0, 0, 0, 0.15);\n",
       "      filter: drop-shadow(0px 1px 2px rgba(0, 0, 0, 0.3));\n",
       "      fill: #FFFFFF;\n",
       "    }\n",
       "  </style>\n",
       "\n",
       "      <script>\n",
       "        const buttonEl =\n",
       "          document.querySelector('#df-3cead1d8-3fa1-4a67-9089-e38ab049aac4 button.colab-df-convert');\n",
       "        buttonEl.style.display =\n",
       "          google.colab.kernel.accessAllowed ? 'block' : 'none';\n",
       "\n",
       "        async function convertToInteractive(key) {\n",
       "          const element = document.querySelector('#df-3cead1d8-3fa1-4a67-9089-e38ab049aac4');\n",
       "          const dataTable =\n",
       "            await google.colab.kernel.invokeFunction('convertToInteractive',\n",
       "                                                     [key], {});\n",
       "          if (!dataTable) return;\n",
       "\n",
       "          const docLinkHtml = 'Like what you see? Visit the ' +\n",
       "            '<a target=\"_blank\" href=https://colab.research.google.com/notebooks/data_table.ipynb>data table notebook</a>'\n",
       "            + ' to learn more about interactive tables.';\n",
       "          element.innerHTML = '';\n",
       "          dataTable['output_type'] = 'display_data';\n",
       "          await google.colab.output.renderOutput(dataTable, element);\n",
       "          const docLink = document.createElement('div');\n",
       "          docLink.innerHTML = docLinkHtml;\n",
       "          element.appendChild(docLink);\n",
       "        }\n",
       "      </script>\n",
       "    </div>\n",
       "  </div>\n",
       "  "
      ],
      "text/plain": [
       "                                            description         type  \\\n",
       "0     d printed products  improve health outcomes  r...  3d printing   \n",
       "1      could greatly increase  quality  life   curre...  3d printing   \n",
       "2     controlled print chamber  controlled process e...  3d printing   \n",
       "3     spark  make visualization  prints much easier ...  3d printing   \n",
       "4     affordable d printing  everyone    mini d prin...  3d printing   \n",
       "...                                                 ...          ...   \n",
       "3590  wind power reduces pollution   sustainable   l...   Wind power   \n",
       "3591   wind turbine  may  installed   terrain provid...   Wind power   \n",
       "3592  msus power flow controller   installed anywher...   Wind power   \n",
       "3593   mission   allow people  meet  d avatars    ea...   Wind power   \n",
       "3594   every wind turbine slows  wind  thus reducing...   Wind power   \n",
       "\n",
       "      type_code  \n",
       "0             0  \n",
       "1             0  \n",
       "2             0  \n",
       "3             0  \n",
       "4             0  \n",
       "...         ...  \n",
       "3590         27  \n",
       "3591         27  \n",
       "3592         27  \n",
       "3593         27  \n",
       "3594         27  \n",
       "\n",
       "[3595 rows x 3 columns]"
      ]
     },
     "execution_count": 14,
     "metadata": {},
     "output_type": "execute_result"
    }
   ],
   "source": [
    "df2"
   ]
  },
  {
   "cell_type": "markdown",
   "metadata": {
    "id": "FKeQKGAY2UCI"
   },
   "source": [
    "## 3. The base model - Logistic Regression\n",
    "\n",
    "#### Step 0: Transform the train, test data\n",
    "\n",
    "To implement Logistic Regression, we first have to tokenize the text of train, test sets"
   ]
  },
  {
   "cell_type": "code",
   "execution_count": 15,
   "metadata": {
    "colab": {
     "base_uri": "https://localhost:8080/"
    },
    "id": "sqXajCvn2UCI",
    "outputId": "8cd40ad3-24da-4f1b-c9be-a9eae412fc7f"
   },
   "outputs": [
    {
     "name": "stdout",
     "output_type": "stream",
     "text": [
      "(3055, 300)\n",
      "(540, 300)\n"
     ]
    }
   ],
   "source": [
    "ngram_range = (1,2)\n",
    "min_df = 10\n",
    "max_df = 1.\n",
    "max_features = 300\n",
    "\n",
    "tfidf = TfidfVectorizer(encoding='utf-8',\n",
    "                        ngram_range=ngram_range,\n",
    "                        stop_words=None,\n",
    "                        lowercase=False,\n",
    "                        max_df=max_df,\n",
    "                        min_df=min_df,\n",
    "                        max_features=max_features,\n",
    "                        norm='l2',\n",
    "                        sublinear_tf=True)\n",
    "                        \n",
    "features_train = tfidf.fit_transform(X_train).toarray()\n",
    "labels_train = y_train\n",
    "print(features_train.shape)\n",
    "\n",
    "features_test = tfidf.transform(X_test).toarray()\n",
    "labels_test = y_test\n",
    "print(features_test.shape)"
   ]
  },
  {
   "cell_type": "markdown",
   "metadata": {
    "id": "PPP1e28A2UCJ"
   },
   "source": [
    "#### Step 1: Random Grid Search"
   ]
  },
  {
   "cell_type": "code",
   "execution_count": 16,
   "metadata": {
    "id": "IYMwplRf2UCJ"
   },
   "outputs": [],
   "source": [
    "from sklearn.linear_model import LogisticRegression\n",
    "from sklearn.feature_extraction.text import TfidfVectorizer\n",
    "from sklearn.model_selection import RandomizedSearchCV\n",
    "from sklearn.model_selection import GridSearchCV\n",
    "from sklearn.metrics import confusion_matrix, accuracy_score\n",
    "import matplotlib.pyplot as plt\n",
    "import seaborn as sns\n",
    "\n",
    "# Grid search for the best parameter, a summary\n",
    "\n",
    "# lr_0 = LogisticRegression(random_state = 8)\n",
    "# print('Parameters currently in use:\\n')\n",
    "# print(lr_0.get_params())\n",
    "\n",
    "# '''''''''''''''''''''''''''''''''DEFINING THE PARAMETERS'''''''''''''\n",
    "# C = [float(x) for x in np.linspace(start = 0.1, stop = 1, num = 10)]\n",
    "# multi_class = ['multinomial']\n",
    "# solver = ['newton-cg', 'sag', 'saga', 'lbfgs']\n",
    "# class_weight = ['balanced', None]\n",
    "# penalty = ['l2']\n",
    "\n",
    "# random_grid = {'C': C,\n",
    "#                'multi_class': multi_class,\n",
    "#                'solver': solver,\n",
    "#                'class_weight': class_weight,\n",
    "#                'penalty': penalty}\n",
    "\n",
    "# print(random_grid)\n",
    "\n",
    "# '''''''''''''''''''''''''''''''''''''FIT THE MODEL'''''''''''''\n",
    "# lrc = LogisticRegression(random_state=8)\n",
    "# random_search = RandomizedSearchCV(estimator=lrc,\n",
    "#                                    param_distributions=random_grid,\n",
    "#                                    n_iter=50,\n",
    "#                                    scoring='accuracy',\n",
    "#                                    cv=3, \n",
    "#                                    verbose=1, \n",
    "#                                    random_state=8)\n",
    "# random_search.fit(features_train, labels_train)\n",
    "\n",
    "# '''''''''''''''''''''''''''''''''''''EXTRACT THE BEST COMBINATION OF PARAMETERS'''''''''''''\n",
    "# print(\"The best hyperparameters from Random Search are:\")\n",
    "# print(random_search.best_params_)\n",
    "# print(\"\")\n",
    "# print(\"The mean accuracy of a model with these hyperparameters is:\")\n",
    "# print(random_search.best_score_)"
   ]
  },
  {
   "cell_type": "markdown",
   "metadata": {
    "id": "5epLNMJx2UCJ"
   },
   "source": [
    "#### Step 2: Tighter parameter search (with cross-validation) in the optimal range from the result above"
   ]
  },
  {
   "cell_type": "code",
   "execution_count": 17,
   "metadata": {
    "id": "xqbmtC562UCK"
   },
   "outputs": [],
   "source": [
    "# '''''''''''''''''''''''''''''''''DEFINING THE PARAMETERS'''''''''''''\n",
    "# Create the parameter grid based on the results of random search \n",
    "# C = [float(x) for x in np.linspace(start = 0.5, stop = 0.9, num = 10)]\n",
    "# multi_class = ['multinomial']\n",
    "# solver = ['sag']\n",
    "# class_weight = [None]\n",
    "# penalty = ['l2']\n",
    "\n",
    "# param_grid = {'C': C,\n",
    "#                'multi_class': multi_class,\n",
    "#                'solver': solver,\n",
    "#                'class_weight': class_weight,\n",
    "#                'penalty': penalty}\n",
    "\n",
    "# '''''''''''''''''''''''''''''''''''''FIT THE MODEL'''''''''''''\n",
    "# lrc = LogisticRegression(random_state=8)\n",
    "# cv_sets = ShuffleSplit(n_splits = 3, test_size = .33, random_state = 8)\n",
    "# grid_search = GridSearchCV(estimator=lrc, \n",
    "#                            param_grid=param_grid,\n",
    "#                            scoring='accuracy',\n",
    "#                            cv=cv_sets,\n",
    "#                            verbose=1)\n",
    "\n",
    "# # Fit the grid search to the data\n",
    "# grid_search.fit(features_train, labels_train)\n",
    "\n",
    "# '''''''''''''''''''''''''''''''''''''EXTRACT THE BEST COMBINATION OF PARAMETERS'''''''''''''\n",
    "# print(\"The best hyperparameters from Grid Search are:\")\n",
    "# print(grid_search.best_params_)\n",
    "# print(\"\")\n",
    "# print(\"The mean accuracy of a model with these hyperparameters is:\")\n",
    "# print(grid_search.best_score_)\n",
    "\n",
    "#best_lrc = grid_search.best_estimator_"
   ]
  },
  {
   "cell_type": "markdown",
   "metadata": {
    "id": "U-q67F7B2UCK"
   },
   "source": [
    "The best hyperparameters from Grid Search are:\n",
    "{'C': 0.7222222222222222, 'class_weight': None, 'multi_class': 'multinomial', 'penalty': 'l2', 'solver': 'sag'}"
   ]
  },
  {
   "cell_type": "code",
   "execution_count": 18,
   "metadata": {
    "colab": {
     "base_uri": "https://localhost:8080/"
    },
    "id": "Dl0bIkmb2UCK",
    "outputId": "3718aa2b-667a-43d4-c1ce-85b131189c54"
   },
   "outputs": [
    {
     "data": {
      "text/plain": [
       "LogisticRegression(C=0.7222222222222222, multi_class='multinomial',\n",
       "                   random_state=8, solver='sag')"
      ]
     },
     "execution_count": 18,
     "metadata": {},
     "output_type": "execute_result"
    }
   ],
   "source": [
    "best_lrc = LogisticRegression(C=0.7222222222222222, class_weight=None, dual=False,\n",
    "                   fit_intercept=True, intercept_scaling=1, l1_ratio=None,\n",
    "                   max_iter=100, multi_class='multinomial', n_jobs=None,\n",
    "                   penalty='l2', random_state=8, solver='sag', tol=0.0001,\n",
    "                   verbose=0, warm_start=False)\n",
    "best_lrc.fit(features_train, labels_train)"
   ]
  },
  {
   "cell_type": "code",
   "execution_count": 19,
   "metadata": {
    "colab": {
     "base_uri": "https://localhost:8080/"
    },
    "id": "snspyhFI2UCL",
    "outputId": "cc327372-91d2-4434-fb65-131d04fbdbee"
   },
   "outputs": [
    {
     "name": "stdout",
     "output_type": "stream",
     "text": [
      "The training accuracy is: \n",
      "0.8959083469721768\n",
      "The test accuracy is: \n",
      "0.8981481481481481\n"
     ]
    }
   ],
   "source": [
    "lrc_pred = best_lrc.predict(features_test)\n",
    "\n",
    "# Training accuracy\n",
    "\n",
    "print(\"The training accuracy is: \")\n",
    "print(accuracy_score(labels_train, best_lrc.predict(features_train)))\n",
    "\n",
    "# Test accuracy\n",
    "\n",
    "print(\"The test accuracy is: \")\n",
    "print(accuracy_score(labels_test, lrc_pred))"
   ]
  },
  {
   "cell_type": "code",
   "execution_count": 20,
   "metadata": {
    "colab": {
     "base_uri": "https://localhost:8080/"
    },
    "id": "lg2q81vJ2UCL",
    "outputId": "7889e3fb-6025-45b6-9842-315391fba1d6"
   },
   "outputs": [
    {
     "name": "stdout",
     "output_type": "stream",
     "text": [
      "Classification report\n",
      "                     precision    recall  f1-score   support\n",
      "\n",
      "        3d printing       0.88      0.88      0.88        16\n",
      "           Big data       0.93      1.00      0.96        25\n",
      "      Cloud storing       0.83      0.88      0.86        17\n",
      "     Cryptocurrency       0.77      0.89      0.83        19\n",
      "             Drones       0.89      0.94      0.92        18\n",
      "      Electric cars       0.85      0.85      0.85        20\n",
      "  Electronic voting       1.00      0.91      0.95        22\n",
      "           Fracking       0.93      0.82      0.87        17\n",
      "       Gene editing       0.85      0.85      0.85        13\n",
      "  Genetic diagnosis       0.91      0.87      0.89        23\n",
      "     Geoengineering       1.00      0.80      0.89        20\n",
      "                Gmo       0.85      0.77      0.81        22\n",
      " Hydroelectric dams       0.60      0.86      0.71         7\n",
      "Hydrogen fuel cells       0.92      0.89      0.91        27\n",
      " Internet of things       0.83      0.83      0.83        18\n",
      "     Nanotechnology       0.88      1.00      0.93        14\n",
      "     Net neutrality       0.83      0.83      0.83        24\n",
      "  Offshore drilling       0.86      1.00      0.93        19\n",
      "     Organ donation       0.88      0.83      0.86        18\n",
      "Public surveillance       1.00      0.95      0.97        20\n",
      "          Recycling       0.88      1.00      0.94        22\n",
      "    Robotic surgery       0.85      1.00      0.92        22\n",
      "    Social networks       0.93      0.81      0.87        16\n",
      "       Solar energy       0.93      0.88      0.90        16\n",
      " Stem cell research       1.00      0.95      0.98        22\n",
      " Tissue engineering       1.00      0.94      0.97        17\n",
      "    Virtual reality       0.96      0.96      0.96        27\n",
      "         Wind power       1.00      0.84      0.91        19\n",
      "\n",
      "           accuracy                           0.90       540\n",
      "          macro avg       0.89      0.89      0.89       540\n",
      "       weighted avg       0.90      0.90      0.90       540\n",
      "\n"
     ]
    }
   ],
   "source": [
    "# Classification report\n",
    "print(\"Classification report\")\n",
    "print(classification_report(labels_test,lrc_pred))"
   ]
  },
  {
   "cell_type": "code",
   "execution_count": 21,
   "metadata": {
    "colab": {
     "base_uri": "https://localhost:8080/",
     "height": 404
    },
    "id": "z0YjEcRs2UCL",
    "outputId": "411f8c9c-23d0-4ed8-bda1-c00116f94fce"
   },
   "outputs": [
    {
     "data": {
      "image/png": "[encoded data removed]",
      "text/plain": [
       "<Figure size 921.6x432 with 2 Axes>"
      ]
     },
     "metadata": {
      "needs_background": "light"
     },
     "output_type": "display_data"
    }
   ],
   "source": [
    "conf_matrix = confusion_matrix(labels_test, lrc_pred)\n",
    "plt.figure(figsize=(12.8,6))\n",
    "sns.heatmap(conf_matrix, \n",
    "            annot=True,\n",
    "            cmap=\"Blues\")\n",
    "plt.ylabel('Predicted')\n",
    "plt.xlabel('Actual')\n",
    "plt.title('Confusion matrix')\n",
    "plt.show()"
   ]
  },
  {
   "cell_type": "markdown",
   "metadata": {
    "id": "Xc0kHVyM2UCM"
   },
   "source": [
    "## 4. Fit the neural network model"
   ]
  },
  {
   "cell_type": "code",
   "execution_count": 22,
   "metadata": {
    "colab": {
     "base_uri": "https://localhost:8080/"
    },
    "id": "eyQViwgx2UCM",
    "outputId": "15b54dd0-60b9-4eac-b14f-3fa03543fc2b"
   },
   "outputs": [
    {
     "data": {
      "text/plain": [
       "[1.0109673790776152,\n",
       " 0.9876373626373627,\n",
       " 1.0030691964285714,\n",
       " 1.0030691964285714,\n",
       " 0.9876373626373627,\n",
       " 0.9876373626373627,\n",
       " 0.9876373626373627,\n",
       " 1.0030691964285714,\n",
       " 1.0789315726290516,\n",
       " 0.9876373626373627,\n",
       " 0.9952934662236987,\n",
       " 1.0030691964285714,\n",
       " 0.9952934662236987,\n",
       " 0.9876373626373627,\n",
       " 0.9876373626373627,\n",
       " 0.9952934662236987,\n",
       " 0.9876373626373627,\n",
       " 0.9952934662236987,\n",
       " 0.9876373626373627,\n",
       " 0.9876373626373627,\n",
       " 0.9876373626373627,\n",
       " 0.9952934662236987,\n",
       " 1.035426267281106,\n",
       " 1.035426267281106,\n",
       " 1.0109673790776152,\n",
       " 0.9876373626373627,\n",
       " 0.9876373626373627,\n",
       " 1.0109673790776152]"
      ]
     },
     "execution_count": 22,
     "metadata": {},
     "output_type": "execute_result"
    }
   ],
   "source": [
    "from sklearn.utils import class_weight\n",
    "class_weights = list(class_weight.compute_class_weight(class_weight= 'balanced', \n",
    "                                                       classes = np.unique(df2['type']), \n",
    "                                                       y = df2['type']))\n",
    "\n",
    "class_weights"
   ]
  },
  {
   "cell_type": "code",
   "execution_count": 23,
   "metadata": {
    "colab": {
     "base_uri": "https://localhost:8080/"
    },
    "id": "42fXqZhG2UCM",
    "outputId": "47fd03c5-17d9-4e4b-9a03-a86586ca7c94"
   },
   "outputs": [
    {
     "data": {
      "text/plain": [
       "{0: 1.0109673790776152,\n",
       " 1: 0.9876373626373627,\n",
       " 2: 1.0030691964285714,\n",
       " 3: 1.0030691964285714,\n",
       " 4: 0.9876373626373627,\n",
       " 5: 0.9876373626373627,\n",
       " 6: 0.9876373626373627,\n",
       " 7: 1.0030691964285714,\n",
       " 8: 1.0789315726290516,\n",
       " 9: 0.9876373626373627,\n",
       " 10: 0.9952934662236987,\n",
       " 11: 1.0030691964285714,\n",
       " 12: 0.9952934662236987,\n",
       " 13: 0.9876373626373627,\n",
       " 14: 0.9876373626373627,\n",
       " 15: 0.9952934662236987,\n",
       " 16: 0.9876373626373627,\n",
       " 17: 0.9952934662236987,\n",
       " 18: 0.9876373626373627,\n",
       " 19: 0.9876373626373627,\n",
       " 20: 0.9876373626373627,\n",
       " 21: 0.9952934662236987,\n",
       " 22: 1.035426267281106,\n",
       " 23: 1.035426267281106,\n",
       " 24: 1.0109673790776152,\n",
       " 25: 0.9876373626373627,\n",
       " 26: 0.9876373626373627,\n",
       " 27: 1.0109673790776152}"
      ]
     },
     "execution_count": 23,
     "metadata": {},
     "output_type": "execute_result"
    }
   ],
   "source": [
    "weights = {}\n",
    "for index, weight in enumerate(class_weights) :\n",
    "    weights[index] = weight\n",
    "    \n",
    "weights"
   ]
  },
  {
   "cell_type": "code",
   "execution_count": 24,
   "metadata": {
    "id": "8MXThiZX2UCM"
   },
   "outputs": [],
   "source": [
    "# create the train and test sets suitable for NN model\n",
    "dataset_train = tf.data.Dataset.from_tensor_slices((X_train.values, y_train.values))\n",
    "dataset_test = tf.data.Dataset.from_tensor_slices((X_test.values, y_test.values))"
   ]
  },
  {
   "cell_type": "code",
   "execution_count": 25,
   "metadata": {
    "colab": {
     "base_uri": "https://localhost:8080/"
    },
    "id": "OMq3xgOp2UCM",
    "outputId": "63e57944-8900-467c-9785-a791d8d27fba"
   },
   "outputs": [
    {
     "name": "stdout",
     "output_type": "stream",
     "text": [
      "Desc: b'biotechnology  medical device  pharmaceutical companies  academic centers statewide  incorporating stem cells   way   research  development     combination  stem cells  targeted genome editing technology provides  powerful tool  model human diseases  develop potential cell replacement therapy ', label: b'Net neutrality'\n",
      "Desc: b' moratorium  offshore drilling   held   risks far outweigh  potential costs    declining demand  oil    adverse effect   offshore drilling industry  lower oil prices reduce day rates earned  offshore drilling rigs ', label: b'Offshore drilling'\n",
      "Desc: b\"spills  leaks  one way fracking could lead  water contamination    relatively easy  manage      fracking contaminates drinking water  fracking ' make  water flammable   must  least contaminate   dangerous chemicals  right \", label: b'Fracking'\n",
      "Desc: b'ways  recycle  recognizes  recycle  many products  help save  planet   current events recently noted    important     food service staff  implemented  zero waste cafeteria   dramatically reduced  amount  waste generated   kitchen ', label: b'Recycling'\n",
      "Desc: b' stability  reliable   system  reliability   ability  collect  manage   provide data properly without failure      timely  unique -line data source provides easy access    promotes  use   canadian injury information  statistics ', label: b'Public surveillance'\n"
     ]
    }
   ],
   "source": [
    "for text, target in dataset_train.take(5):\n",
    "    print('Desc: {}, label: {}'.format(text, target))"
   ]
  },
  {
   "cell_type": "code",
   "execution_count": 26,
   "metadata": {
    "id": "nDWi2lDu2UCN"
   },
   "outputs": [],
   "source": [
    "table = tf.lookup.StaticHashTable(\n",
    "    initializer=tf.lookup.KeyValueTensorInitializer(\n",
    "        keys=tf.constant(list(category_codes.keys())),\n",
    "        values = tf.constant(list(category_codes.values()))\n",
    "    ),\n",
    "    default_value=tf.constant(-1),\n",
    "    name=\"target_encoding\"\n",
    ")\n",
    "\n",
    "@tf.function\n",
    "def target(x):\n",
    "    return table.lookup(x)"
   ]
  },
  {
   "cell_type": "code",
   "execution_count": 27,
   "metadata": {
    "id": "1lC48fdI2UCN"
   },
   "outputs": [],
   "source": [
    "def fetch(text, labels):\n",
    "    '''\n",
    "    Purpose: one hot encoding the labels of the dataset\n",
    "    '''\n",
    "    return text, tf.one_hot(target(labels), 19)\n",
    "\n",
    "train_data_fetch = dataset_train.map(fetch)\n",
    "test_data_fetch = dataset_test.map(fetch)\n",
    "\n",
    "# get a batch of data\n",
    "train_data, train_labels = next(iter(dataset_train.map(fetch).batch(1000)))"
   ]
  },
  {
   "cell_type": "markdown",
   "metadata": {
    "id": "tLYPNLKv2UCN"
   },
   "source": [
    "#### Start creating a model\n",
    "\n",
    "I'm going to fit the model without the dropout layers first, then compare it with the dropout layers method. For the model, I'm using an open-source embedding layer that handles the tokenization task for us."
   ]
  },
  {
   "cell_type": "code",
   "execution_count": 28,
   "metadata": {
    "colab": {
     "base_uri": "https://localhost:8080/"
    },
    "id": "bMWmdwXn2UCN",
    "outputId": "8ee622cd-fb10-4e17-bc26-7c3d6921d11f"
   },
   "outputs": [
    {
     "data": {
      "text/plain": [
       "<tf.Tensor: shape=(1, 128), dtype=float32, numpy=\n",
       "array([[ 1.86898604e-01, -6.78474009e-02,  1.55039474e-01,\n",
       "        -5.03670931e-01, -2.38705322e-01,  1.26698345e-01,\n",
       "         3.52263570e-01, -2.58769870e-01, -3.19436491e-01,\n",
       "         3.72054428e-01, -2.96802428e-02, -1.05767637e-01,\n",
       "         7.25458786e-02,  1.33288890e-01, -3.02768141e-01,\n",
       "        -5.15785277e-01, -2.13364974e-01, -1.84427917e-01,\n",
       "         1.34845361e-01,  1.04087785e-01,  2.47993872e-01,\n",
       "        -2.05968782e-01, -5.86958975e-02, -1.04299203e-01,\n",
       "         3.03703189e-01,  5.80461212e-02,  2.26616099e-01,\n",
       "         2.38112971e-01, -4.25065607e-02,  3.39460224e-02,\n",
       "         1.22054622e-01,  1.37946442e-01,  9.51155797e-02,\n",
       "         2.21702158e-01, -2.91936956e-02,  1.41604140e-01,\n",
       "         5.07518239e-02,  4.90488373e-02,  3.87313455e-01,\n",
       "        -3.39394845e-02, -1.13828024e-02, -5.49491383e-02,\n",
       "         1.68742053e-02,  1.89467072e-01, -1.44293293e-01,\n",
       "        -3.08408309e-02,  2.45993823e-01, -5.52684106e-02,\n",
       "         3.75876129e-01,  3.09429914e-01,  5.69151528e-02,\n",
       "        -2.55081981e-01,  3.71231735e-01, -2.33027175e-01,\n",
       "         3.46802145e-01,  1.55321062e-01,  3.43050063e-01,\n",
       "        -9.00074169e-02,  1.70407429e-01,  1.64765611e-01,\n",
       "         1.37041584e-01,  2.91105974e-02,  1.06458098e-01,\n",
       "        -2.03465089e-01, -2.77302414e-01,  9.79815945e-02,\n",
       "         1.86735198e-01, -3.37332249e-01,  1.07267886e-01,\n",
       "         3.02185386e-01, -1.76757962e-01,  1.07392915e-01,\n",
       "        -9.83191133e-02,  1.27513930e-01,  6.46927021e-03,\n",
       "         2.79604435e-01, -3.87934178e-01,  1.78097367e-01,\n",
       "        -1.19819812e-01, -2.68543065e-01,  2.46865049e-01,\n",
       "        -3.66586037e-02, -1.48056135e-01, -2.73026764e-01,\n",
       "         1.11120611e-01, -1.16854638e-01, -1.03905112e-01,\n",
       "        -1.16668586e-02, -3.21474150e-02,  6.20283782e-01,\n",
       "         1.27262384e-01,  1.10637672e-01, -1.32049341e-02,\n",
       "        -1.55889019e-01,  8.56830031e-02, -2.41748556e-01,\n",
       "        -7.08923265e-02,  2.35600993e-02, -7.25351930e-01,\n",
       "        -5.74807487e-02,  3.11180076e-04, -1.08735681e-01,\n",
       "        -3.52077365e-01,  2.74589062e-01,  2.64353901e-01,\n",
       "        -8.83286148e-02,  1.85025984e-03,  1.52635872e-01,\n",
       "        -5.96447885e-02,  5.79095073e-02, -2.54592687e-01,\n",
       "        -4.90598008e-02, -2.86154479e-01, -1.28051983e-02,\n",
       "        -2.64298171e-02,  1.14128463e-01,  3.26098859e-01,\n",
       "         1.08164474e-01,  3.42538267e-01,  1.65580347e-01,\n",
       "        -2.15139329e-01, -6.52758181e-02,  5.07670529e-02,\n",
       "        -1.91977248e-01, -1.12383455e-01, -8.28275234e-02,\n",
       "        -1.86928585e-01, -6.79422393e-02]], dtype=float32)>"
      ]
     },
     "execution_count": 28,
     "metadata": {},
     "output_type": "execute_result"
    }
   ],
   "source": [
    "embedding = \"https://tfhub.dev/google/nnlm-en-dim128/2\"\n",
    "hub_layer = hub.KerasLayer(embedding, output_shape=[128],input_shape=[], dtype=tf.string,\n",
    "                          trainable=True)\n",
    "#demonstrate how this layer tokenize the text\n",
    "hub_layer(train_data[:1])"
   ]
  },
  {
   "cell_type": "code",
   "execution_count": 29,
   "metadata": {
    "colab": {
     "base_uri": "https://localhost:8080/"
    },
    "id": "rB6RAQ6z2UCO",
    "outputId": "e7ee57cc-5a25-4ce0-f993-8628e1b7a977"
   },
   "outputs": [
    {
     "name": "stdout",
     "output_type": "stream",
     "text": [
      "Model: \"sequential\"\n",
      "_________________________________________________________________\n",
      " Layer (type)                Output Shape              Param #   \n",
      "=================================================================\n",
      " keras_layer (KerasLayer)    (None, 128)               124642688 \n",
      "                                                                 \n",
      " dense (Dense)               (None, 128)               16512     \n",
      "                                                                 \n",
      " dense_1 (Dense)             (None, 128)               16512     \n",
      "                                                                 \n",
      " dense_2 (Dense)             (None, 64)                8256      \n",
      "                                                                 \n",
      " dense_3 (Dense)             (None, 32)                2080      \n",
      "                                                                 \n",
      " dense_4 (Dense)             (None, 19)                627       \n",
      "                                                                 \n",
      "=================================================================\n",
      "Total params: 124,686,675\n",
      "Trainable params: 124,686,675\n",
      "Non-trainable params: 0\n",
      "_________________________________________________________________\n"
     ]
    }
   ],
   "source": [
    "#build the basic model without dropout\n",
    "model_wo_dropout = tf.keras.Sequential()\n",
    "model_wo_dropout.add(hub_layer)\n",
    "for units in [128, 128, 64, 32]:\n",
    "    model_wo_dropout.add(tf.keras.layers.Dense(units, activation='relu'))\n",
    "model_wo_dropout.add(tf.keras.layers.Dense(19, activation='softmax'))\n",
    "\n",
    "model_wo_dropout.summary()"
   ]
  },
  {
   "cell_type": "code",
   "execution_count": 30,
   "metadata": {
    "id": "QVx3shnh2UCO"
   },
   "outputs": [],
   "source": [
    "#compile the model\n",
    "model_wo_dropout.compile(optimizer='adam', \n",
    "              loss=tf.keras.losses.CategoricalCrossentropy(from_logits=True),\n",
    "              metrics=['accuracy'])"
   ]
  },
  {
   "cell_type": "code",
   "execution_count": 31,
   "metadata": {
    "id": "k2MC5AP32UCO"
   },
   "outputs": [],
   "source": [
    "train_data_fetch = train_data_fetch.shuffle(70000).batch(512)\n",
    "test_data_fetch = test_data_fetch.batch(512)"
   ]
  },
  {
   "cell_type": "code",
   "execution_count": 32,
   "metadata": {
    "colab": {
     "base_uri": "https://localhost:8080/"
    },
    "id": "zxAfoK3V2UCO",
    "outputId": "1848457a-f9b6-4f1e-c61e-713cbcdb6d1b"
   },
   "outputs": [
    {
     "name": "stdout",
     "output_type": "stream",
     "text": [
      "Epoch 1/25\n"
     ]
    },
    {
     "name": "stderr",
     "output_type": "stream",
     "text": [
      "/usr/local/lib/python3.8/dist-packages/tensorflow/python/util/dispatch.py:1082: UserWarning: \"`categorical_crossentropy` received `from_logits=True`, but the `output` argument was produced by a sigmoid or softmax activation and thus does not represent logits. Was this intended?\"\n",
      "  return dispatch_target(*args, **kwargs)\n"
     ]
    },
    {
     "name": "stdout",
     "output_type": "stream",
     "text": [
      "6/6 [==============================] - 13s 2s/step - loss: 1.9851 - accuracy: 0.0907 - val_loss: 1.8969 - val_accuracy: 0.1352\n",
      "Epoch 2/25\n",
      "6/6 [==============================] - 8s 1s/step - loss: 1.9032 - accuracy: 0.1502 - val_loss: 1.7858 - val_accuracy: 0.1704\n",
      "Epoch 3/25\n",
      "6/6 [==============================] - 8s 1s/step - loss: 1.7589 - accuracy: 0.1928 - val_loss: 1.6058 - val_accuracy: 0.2722\n",
      "Epoch 4/25\n",
      "6/6 [==============================] - 8s 1s/step - loss: 1.5323 - accuracy: 0.3038 - val_loss: 1.3497 - val_accuracy: 0.3833\n",
      "Epoch 5/25\n",
      "6/6 [==============================] - 7s 1s/step - loss: 1.2302 - accuracy: 0.4088 - val_loss: 1.0727 - val_accuracy: 0.4259\n",
      "Epoch 6/25\n",
      "6/6 [==============================] - 7s 1s/step - loss: 0.9095 - accuracy: 0.4707 - val_loss: 0.7994 - val_accuracy: 0.4926\n",
      "Epoch 7/25\n",
      "6/6 [==============================] - 7s 1s/step - loss: 0.6312 - accuracy: 0.5558 - val_loss: 0.6250 - val_accuracy: 0.5500\n",
      "Epoch 8/25\n",
      "6/6 [==============================] - 9s 2s/step - loss: 0.4685 - accuracy: 0.5967 - val_loss: 0.5546 - val_accuracy: 0.5630\n",
      "Epoch 9/25\n",
      "6/6 [==============================] - 7s 1s/step - loss: 0.3901 - accuracy: 0.6151 - val_loss: 0.5567 - val_accuracy: 0.5778\n",
      "Epoch 10/25\n",
      "6/6 [==============================] - 7s 1s/step - loss: 0.3401 - accuracy: 0.6373 - val_loss: 0.4677 - val_accuracy: 0.5796\n",
      "Epoch 11/25\n",
      "6/6 [==============================] - 7s 1s/step - loss: 0.3219 - accuracy: 0.6278 - val_loss: 0.6849 - val_accuracy: 0.4389\n",
      "Epoch 12/25\n",
      "6/6 [==============================] - 7s 1s/step - loss: 0.6979 - accuracy: 0.4903 - val_loss: 1.9938 - val_accuracy: 0.2944\n",
      "Epoch 13/25\n",
      "6/6 [==============================] - 8s 1s/step - loss: 5.2817 - accuracy: 0.2936 - val_loss: 16.2571 - val_accuracy: 0.0500\n",
      "Epoch 14/25\n",
      "6/6 [==============================] - 7s 1s/step - loss: 18.0250 - accuracy: 0.1051 - val_loss: 24.1768 - val_accuracy: 0.0537\n",
      "Epoch 15/25\n",
      "6/6 [==============================] - ETA: 0s - loss: 43.7625 - accuracy: 0.0648Restoring model weights from the end of the best epoch: 10.\n",
      "6/6 [==============================] - 10s 2s/step - loss: 43.7625 - accuracy: 0.0648 - val_loss: 56.5777 - val_accuracy: 0.0556\n",
      "Epoch 15: early stopping\n"
     ]
    }
   ],
   "source": [
    "#fit the model\n",
    "from keras import callbacks\n",
    "earlystopping = callbacks.EarlyStopping(monitor=\"val_loss\", mode=\"min\", patience=5, restore_best_weights=True, verbose=1)\n",
    "text_classifier_wo_dropout = model_wo_dropout.fit(train_data_fetch, epochs=25, validation_data = test_data_fetch,\n",
    "                   verbose=1, class_weight=weights, callbacks =[earlystopping])"
   ]
  },
  {
   "cell_type": "code",
   "execution_count": 33,
   "metadata": {
    "colab": {
     "base_uri": "https://localhost:8080/"
    },
    "id": "fTO4q-S52UCO",
    "outputId": "776b81eb-a73e-40bd-c184-d85a4efc7ac5"
   },
   "outputs": [
    {
     "name": "stdout",
     "output_type": "stream",
     "text": [
      "1/1 - 0s - loss: 0.4677 - accuracy: 0.5796 - 118ms/epoch - 118ms/step\n",
      "[0.46767303347587585, 0.5796296000480652]\n"
     ]
    }
   ],
   "source": [
    "#evaluate the model\n",
    "test_length = len(list(dataset_test))\n",
    "results = model_wo_dropout.evaluate(dataset_test.map(fetch).batch(test_length), verbose=2)\n",
    "print(results)"
   ]
  },
  {
   "cell_type": "code",
   "execution_count": 34,
   "metadata": {
    "colab": {
     "base_uri": "https://localhost:8080/"
    },
    "id": "GhowUo-a2UCP",
    "outputId": "fcd2813c-eed3-4dc3-a6ca-f61c4869ebbf"
   },
   "outputs": [
    {
     "name": "stdout",
     "output_type": "stream",
     "text": [
      "32/32 [==============================] - 4s 127ms/step\n",
      "              precision    recall  f1-score   support\n",
      "\n",
      "           0       0.88      0.13      0.22       343\n",
      "           1       0.66      0.94      0.77        31\n",
      "           2       0.87      0.91      0.89        43\n",
      "           3       0.97      0.94      0.96        36\n",
      "           4       1.00      0.68      0.81        44\n",
      "           5       1.00      0.86      0.92        42\n",
      "           6       0.89      0.91      0.90        34\n",
      "           7       1.00      0.97      0.99        40\n",
      "           8       0.45      1.00      0.62        32\n",
      "           9       0.12      1.00      0.21        22\n",
      "          10       0.97      0.95      0.96        39\n",
      "          11       0.92      0.94      0.93        35\n",
      "          12       0.32      0.98      0.48        46\n",
      "          13       1.00      0.86      0.93        36\n",
      "          14       0.69      1.00      0.81        37\n",
      "          15       1.00      0.85      0.92        34\n",
      "          16       1.00      0.92      0.96        38\n",
      "          17       0.72      0.97      0.83        30\n",
      "          18       1.00      0.76      0.87        38\n",
      "\n",
      "    accuracy                           0.64      1000\n",
      "   macro avg       0.81      0.87      0.79      1000\n",
      "weighted avg       0.84      0.64      0.62      1000\n",
      "\n"
     ]
    }
   ],
   "source": [
    "#training errors\n",
    "y_train_pred = model_wo_dropout.predict(train_data)\n",
    "\n",
    "print(classification_report(train_labels.numpy().argmax(axis=1), y_train_pred.argmax(axis=1)))"
   ]
  },
  {
   "cell_type": "code",
   "execution_count": 35,
   "metadata": {
    "colab": {
     "base_uri": "https://localhost:8080/"
    },
    "id": "f9RebHPK2UCP",
    "outputId": "1927f53f-9e0c-4ca1-da98-0103dd0f82fb"
   },
   "outputs": [
    {
     "name": "stdout",
     "output_type": "stream",
     "text": [
      "17/17 [==============================] - 2s 118ms/step\n",
      "              precision    recall  f1-score   support\n",
      "\n",
      "           0       0.79      0.10      0.17       197\n",
      "           1       0.83      1.00      0.91        25\n",
      "           2       0.73      0.94      0.82        17\n",
      "           3       0.86      0.95      0.90        19\n",
      "           4       1.00      0.61      0.76        18\n",
      "           5       1.00      0.85      0.92        20\n",
      "           6       0.87      0.91      0.89        22\n",
      "           7       1.00      0.82      0.90        17\n",
      "           8       0.28      0.85      0.42        13\n",
      "           9       0.17      0.91      0.28        23\n",
      "          10       0.89      0.80      0.84        20\n",
      "          11       0.94      0.77      0.85        22\n",
      "          12       0.12      0.86      0.20         7\n",
      "          13       1.00      0.81      0.90        27\n",
      "          14       0.61      0.94      0.74        18\n",
      "          15       0.93      1.00      0.97        14\n",
      "          16       0.95      0.83      0.89        24\n",
      "          17       0.66      1.00      0.79        19\n",
      "          18       1.00      0.56      0.71        18\n",
      "\n",
      "    accuracy                           0.58       540\n",
      "   macro avg       0.77      0.82      0.73       540\n",
      "weighted avg       0.80      0.58      0.56       540\n",
      "\n"
     ]
    }
   ],
   "source": [
    "# test errors\n",
    "test_data, test_labels = next(iter(dataset_test.map(fetch).batch(test_length)))\n",
    "y_pred = model_wo_dropout.predict(test_data)\n",
    "\n",
    "print(classification_report(test_labels.numpy().argmax(axis=1), y_pred.argmax(axis=1)))"
   ]
  },
  {
   "cell_type": "markdown",
   "metadata": {
    "id": "LNk6Z7HT2UCP"
   },
   "source": [
    "#### Model with Dropout layers for confirmation of overfitting"
   ]
  },
  {
   "cell_type": "code",
   "execution_count": 36,
   "metadata": {
    "id": "9MAGRiZO2UCP"
   },
   "outputs": [],
   "source": [
    "# re-create train, test data for fitting the model\n",
    "train_data_fetch_dropout = dataset_train.map(fetch)\n",
    "test_data_fetch_dropout = dataset_test.map(fetch)"
   ]
  },
  {
   "cell_type": "code",
   "execution_count": 37,
   "metadata": {
    "colab": {
     "base_uri": "https://localhost:8080/"
    },
    "id": "FcmAd6S32UCP",
    "outputId": "5c57985b-ac79-4851-b774-6966d687e81f"
   },
   "outputs": [
    {
     "name": "stdout",
     "output_type": "stream",
     "text": [
      "Model: \"sequential_1\"\n",
      "_________________________________________________________________\n",
      " Layer (type)                Output Shape              Param #   \n",
      "=================================================================\n",
      " keras_layer (KerasLayer)    (None, 128)               124642688 \n",
      "                                                                 \n",
      " dense_5 (Dense)             (None, 128)               16512     \n",
      "                                                                 \n",
      " dropout (Dropout)           (None, 128)               0         \n",
      "                                                                 \n",
      " dense_6 (Dense)             (None, 128)               16512     \n",
      "                                                                 \n",
      " dropout_1 (Dropout)         (None, 128)               0         \n",
      "                                                                 \n",
      " dense_7 (Dense)             (None, 64)                8256      \n",
      "                                                                 \n",
      " dropout_2 (Dropout)         (None, 64)                0         \n",
      "                                                                 \n",
      " dense_8 (Dense)             (None, 32)                2080      \n",
      "                                                                 \n",
      " dense_9 (Dense)             (None, 19)                627       \n",
      "                                                                 \n",
      "=================================================================\n",
      "Total params: 124,686,675\n",
      "Trainable params: 124,686,675\n",
      "Non-trainable params: 0\n",
      "_________________________________________________________________\n"
     ]
    }
   ],
   "source": [
    "# build a similar model but with the dropout layers\n",
    "model = tf.keras.Sequential()\n",
    "model.add(hub_layer)\n",
    "for units in [128, 128, 64]:\n",
    "    model.add(tf.keras.layers.Dense(units, activation='relu'))\n",
    "    model.add(tf.keras.layers.Dropout(0.3))\n",
    "model.add(tf.keras.layers.Dense(32, activation='relu'))\n",
    "model.add(tf.keras.layers.Dense(19, activation='softmax'))\n",
    "\n",
    "model.summary()"
   ]
  },
  {
   "cell_type": "code",
   "execution_count": 38,
   "metadata": {
    "id": "o9Fc2xVK2UCQ"
   },
   "outputs": [],
   "source": [
    "#compile the model\n",
    "model.compile(optimizer='adam', \n",
    "              loss=tf.keras.losses.CategoricalCrossentropy(from_logits=True),\n",
    "              metrics=['accuracy'])"
   ]
  },
  {
   "cell_type": "code",
   "execution_count": 39,
   "metadata": {
    "id": "JDNYMDd22UCQ"
   },
   "outputs": [],
   "source": [
    "train_data_fetch_dropout = train_data_fetch_dropout.shuffle(10000).batch(1500)\n",
    "test_data_fetch_dropout = test_data_fetch_dropout.batch(512)"
   ]
  },
  {
   "cell_type": "code",
   "execution_count": 40,
   "metadata": {
    "colab": {
     "base_uri": "https://localhost:8080/"
    },
    "id": "5U5QcFUV2UCQ",
    "outputId": "e34754c2-ef8c-45e9-a13e-d1a55db6e467"
   },
   "outputs": [
    {
     "name": "stdout",
     "output_type": "stream",
     "text": [
      "Epoch 1/100\n"
     ]
    },
    {
     "name": "stderr",
     "output_type": "stream",
     "text": [
      "/usr/local/lib/python3.8/dist-packages/tensorflow/python/util/dispatch.py:1082: UserWarning: \"`categorical_crossentropy` received `from_logits=True`, but the `output` argument was produced by a sigmoid or softmax activation and thus does not represent logits. Was this intended?\"\n",
      "  return dispatch_target(*args, **kwargs)\n"
     ]
    },
    {
     "name": "stdout",
     "output_type": "stream",
     "text": [
      "3/3 [==============================] - 5s 2s/step - loss: 2.0164 - accuracy: 0.0661 - val_loss: 1.9405 - val_accuracy: 0.2093\n",
      "Epoch 2/100\n",
      "3/3 [==============================] - 4s 1s/step - loss: 1.9874 - accuracy: 0.1191 - val_loss: 1.9156 - val_accuracy: 0.3093\n",
      "Epoch 3/100\n",
      "3/3 [==============================] - 4s 1s/step - loss: 1.9650 - accuracy: 0.1502 - val_loss: 1.8894 - val_accuracy: 0.3426\n",
      "Epoch 4/100\n",
      "3/3 [==============================] - 4s 1s/step - loss: 1.9426 - accuracy: 0.1745 - val_loss: 1.8592 - val_accuracy: 0.4389\n",
      "Epoch 5/100\n",
      "3/3 [==============================] - 4s 1s/step - loss: 1.9163 - accuracy: 0.2075 - val_loss: 1.8247 - val_accuracy: 0.4574\n",
      "Epoch 6/100\n",
      "3/3 [==============================] - 4s 1s/step - loss: 1.8838 - accuracy: 0.2458 - val_loss: 1.7831 - val_accuracy: 0.4852\n",
      "Epoch 7/100\n",
      "3/3 [==============================] - 4s 1s/step - loss: 1.8398 - accuracy: 0.2576 - val_loss: 1.7288 - val_accuracy: 0.5111\n",
      "Epoch 8/100\n",
      "3/3 [==============================] - 4s 1s/step - loss: 1.8031 - accuracy: 0.2694 - val_loss: 1.6567 - val_accuracy: 0.5056\n",
      "Epoch 9/100\n",
      "3/3 [==============================] - 4s 1s/step - loss: 1.7358 - accuracy: 0.2475 - val_loss: 1.5731 - val_accuracy: 0.4852\n",
      "Epoch 10/100\n",
      "3/3 [==============================] - 4s 1s/step - loss: 1.6645 - accuracy: 0.2740 - val_loss: 1.4873 - val_accuracy: 0.5444\n",
      "Epoch 11/100\n",
      "3/3 [==============================] - 4s 1s/step - loss: 1.5933 - accuracy: 0.3090 - val_loss: 1.3970 - val_accuracy: 0.6056\n",
      "Epoch 12/100\n",
      "3/3 [==============================] - 4s 1s/step - loss: 1.5185 - accuracy: 0.3319 - val_loss: 1.3035 - val_accuracy: 0.6426\n",
      "Epoch 13/100\n",
      "3/3 [==============================] - 4s 1s/step - loss: 1.4501 - accuracy: 0.3447 - val_loss: 1.2051 - val_accuracy: 0.6481\n",
      "Epoch 14/100\n",
      "3/3 [==============================] - 4s 1s/step - loss: 1.3721 - accuracy: 0.3414 - val_loss: 1.0977 - val_accuracy: 0.6389\n",
      "Epoch 15/100\n",
      "3/3 [==============================] - 4s 1s/step - loss: 1.2829 - accuracy: 0.3516 - val_loss: 0.9914 - val_accuracy: 0.7296\n",
      "Epoch 16/100\n",
      "3/3 [==============================] - 4s 1s/step - loss: 1.2047 - accuracy: 0.3944 - val_loss: 0.8945 - val_accuracy: 0.7870\n",
      "Epoch 17/100\n",
      "3/3 [==============================] - 5s 2s/step - loss: 1.1665 - accuracy: 0.4069 - val_loss: 0.8114 - val_accuracy: 0.7222\n",
      "Epoch 18/100\n",
      "3/3 [==============================] - 4s 1s/step - loss: 1.1553 - accuracy: 0.3804 - val_loss: 0.7485 - val_accuracy: 0.6463\n",
      "Epoch 19/100\n",
      "3/3 [==============================] - 4s 1s/step - loss: 1.2104 - accuracy: 0.3686 - val_loss: 0.7242 - val_accuracy: 0.6278\n",
      "Epoch 20/100\n",
      "3/3 [==============================] - 4s 1s/step - loss: 1.3922 - accuracy: 0.3411 - val_loss: 0.7472 - val_accuracy: 0.7148\n",
      "Epoch 21/100\n",
      "3/3 [==============================] - 5s 2s/step - loss: 1.6479 - accuracy: 0.3394 - val_loss: 0.8072 - val_accuracy: 0.5685\n",
      "Epoch 22/100\n",
      "3/3 [==============================] - 4s 1s/step - loss: 2.3365 - accuracy: 0.2900 - val_loss: 0.7857 - val_accuracy: 0.5074\n",
      "Epoch 23/100\n",
      "3/3 [==============================] - 4s 1s/step - loss: 3.2209 - accuracy: 0.2484 - val_loss: 0.7808 - val_accuracy: 0.6481\n",
      "Epoch 24/100\n",
      "3/3 [==============================] - ETA: 0s - loss: 4.4756 - accuracy: 0.2190Restoring model weights from the end of the best epoch: 19.\n",
      "3/3 [==============================] - 4s 1s/step - loss: 4.4756 - accuracy: 0.2190 - val_loss: 1.2069 - val_accuracy: 0.3870\n",
      "Epoch 24: early stopping\n"
     ]
    }
   ],
   "source": [
    "#fit the model\n",
    "text_classifier = model.fit(train_data_fetch_dropout, epochs=100, validation_data = test_data_fetch_dropout,\n",
    "                   verbose=1, class_weight=weights, callbacks =[earlystopping])"
   ]
  },
  {
   "cell_type": "code",
   "execution_count": 41,
   "metadata": {
    "colab": {
     "base_uri": "https://localhost:8080/"
    },
    "id": "nrpy1iij2UCQ",
    "outputId": "3adc5140-2ce1-4901-cf97-7bc608965ee2"
   },
   "outputs": [
    {
     "name": "stdout",
     "output_type": "stream",
     "text": [
      "1/1 - 0s - loss: 0.7242 - accuracy: 0.6278 - 220ms/epoch - 220ms/step\n",
      "[0.7241824865341187, 0.6277777552604675]\n"
     ]
    }
   ],
   "source": [
    "test_length = len(list(dataset_test))\n",
    "results = model.evaluate(dataset_test.map(fetch).batch(test_length), verbose=2)\n",
    "print(results)"
   ]
  },
  {
   "cell_type": "markdown",
   "metadata": {
    "id": "DcV8FtVp2UCQ"
   },
   "source": [
    "We look closer at the confusing matrices"
   ]
  },
  {
   "cell_type": "code",
   "execution_count": 42,
   "metadata": {
    "colab": {
     "base_uri": "https://localhost:8080/"
    },
    "id": "qmj2Amak2UCR",
    "outputId": "be162c94-9ca1-48cc-b4ac-d3756dc7fabb"
   },
   "outputs": [
    {
     "name": "stdout",
     "output_type": "stream",
     "text": [
      "32/32 [==============================] - 4s 136ms/step\n",
      "              precision    recall  f1-score   support\n",
      "\n",
      "           0       0.95      0.48      0.64       343\n",
      "           1       0.97      0.90      0.93        31\n",
      "           2       0.97      0.88      0.93        43\n",
      "           3       0.75      0.08      0.15        36\n",
      "           4       0.63      0.93      0.75        44\n",
      "           5       0.44      0.90      0.59        42\n",
      "           6       1.00      0.88      0.94        34\n",
      "           7       1.00      0.95      0.97        40\n",
      "           8       0.13      0.97      0.23        32\n",
      "           9       0.90      0.86      0.88        22\n",
      "          10       1.00      0.87      0.93        39\n",
      "          11       1.00      0.74      0.85        35\n",
      "          12       0.90      0.96      0.93        46\n",
      "          13       1.00      0.22      0.36        36\n",
      "          14       0.94      0.86      0.90        37\n",
      "          15       0.85      0.82      0.84        34\n",
      "          16       1.00      0.76      0.87        38\n",
      "          17       1.00      0.90      0.95        30\n",
      "          18       0.97      0.92      0.95        38\n",
      "\n",
      "    accuracy                           0.69      1000\n",
      "   macro avg       0.86      0.79      0.77      1000\n",
      "weighted avg       0.89      0.69      0.73      1000\n",
      "\n"
     ]
    }
   ],
   "source": [
    "# training errors\n",
    "y_train_pred_dropout = model.predict(train_data)\n",
    "\n",
    "print(classification_report(train_labels.numpy().argmax(axis=1), y_train_pred_dropout.argmax(axis=1)))"
   ]
  },
  {
   "cell_type": "code",
   "execution_count": 43,
   "metadata": {
    "colab": {
     "base_uri": "https://localhost:8080/"
    },
    "id": "LTGhgJbI2UCR",
    "outputId": "f3e74823-a9d3-4e2b-856e-3393b432a976"
   },
   "outputs": [
    {
     "name": "stdout",
     "output_type": "stream",
     "text": [
      "17/17 [==============================] - 2s 121ms/step\n",
      "              precision    recall  f1-score   support\n",
      "\n",
      "           0       0.98      0.42      0.59       197\n",
      "           1       0.96      1.00      0.98        25\n",
      "           2       1.00      0.82      0.90        17\n",
      "           3       1.00      0.05      0.10        19\n",
      "           4       0.47      1.00      0.64        18\n",
      "           5       0.31      0.85      0.46        20\n",
      "           6       1.00      0.91      0.95        22\n",
      "           7       1.00      0.82      0.90        17\n",
      "           8       0.08      0.85      0.15        13\n",
      "           9       0.87      0.87      0.87        23\n",
      "          10       1.00      0.80      0.89        20\n",
      "          11       1.00      0.45      0.62        22\n",
      "          12       0.43      0.86      0.57         7\n",
      "          13       1.00      0.19      0.31        27\n",
      "          14       1.00      0.83      0.91        18\n",
      "          15       0.88      1.00      0.93        14\n",
      "          16       1.00      0.75      0.86        24\n",
      "          17       1.00      0.95      0.97        19\n",
      "          18       0.93      0.78      0.85        18\n",
      "\n",
      "    accuracy                           0.63       540\n",
      "   macro avg       0.84      0.75      0.71       540\n",
      "weighted avg       0.91      0.63      0.67       540\n",
      "\n"
     ]
    }
   ],
   "source": [
    "# testing errors\n",
    "test_data, test_labels = next(iter(dataset_test.map(fetch).batch(test_length)))\n",
    "y_pred = model.predict(test_data)\n",
    "\n",
    "print(classification_report(test_labels.numpy().argmax(axis=1), y_pred.argmax(axis=1)))"
   ]
  },
  {
   "cell_type": "code",
   "execution_count": 45,
   "metadata": {
    "colab": {
     "base_uri": "https://localhost:8080/"
    },
    "id": "lzx1QbYTDrnV",
    "outputId": "60c0bd8f-a05c-4a0c-f34f-13cc59da69bb"
   },
   "outputs": [
    {
     "name": "stdout",
     "output_type": "stream",
     "text": [
      "Looking in indexes: https://pypi.org/simple, https://us-python.pkg.dev/colab-wheels/public/simple/\n",
      "Collecting visualkeras\n",
      "  Downloading visualkeras-0.0.2-py3-none-any.whl (12 kB)\n",
      "Requirement already satisfied: numpy>=1.18.1 in /usr/local/lib/python3.8/dist-packages (from visualkeras) (1.21.6)\n",
      "Requirement already satisfied: pillow>=6.2.0 in /usr/local/lib/python3.8/dist-packages (from visualkeras) (7.1.2)\n",
      "Collecting aggdraw>=1.3.11\n",
      "  Downloading aggdraw-1.3.15-cp38-cp38-manylinux_2_17_x86_64.manylinux2014_x86_64.whl (992 kB)\n",
      "\u001b[2K     \u001b[90m━━━━━━━━━━━━━━━━━━━━━━━━━━━━━━━━━━━━━━\u001b[0m \u001b[32m992.2/992.2 KB\u001b[0m \u001b[31m22.6 MB/s\u001b[0m eta \u001b[36m0:00:00\u001b[0m\n",
      "\u001b[?25hInstalling collected packages: aggdraw, visualkeras\n",
      "Successfully installed aggdraw-1.3.15 visualkeras-0.0.2\n"
     ]
    }
   ],
   "source": [
    "! pip install visualkeras"
   ]
  },
  {
   "cell_type": "code",
   "execution_count": 50,
   "metadata": {
    "colab": {
     "base_uri": "https://localhost:8080/",
     "height": 80
    },
    "id": "-PgoTEaqDtQs",
    "outputId": "1fb162e0-5e28-40ac-b361-5085a006cfc0"
   },
   "outputs": [
    {
     "data": {
      "image/png": "[encoded data removed]",
      "text/plain": [
       "<PIL.Image.Image image mode=RGBA size=287x63 at 0x7F23CA3609D0>"
      ]
     },
     "execution_count": 50,
     "metadata": {},
     "output_type": "execute_result"
    }
   ],
   "source": [
    "import visualkeras\n",
    "visualkeras.layered_view(model, legend=True)"
   ]
  },
  {
   "cell_type": "code",
   "execution_count": null,
   "metadata": {
    "id": "HVlIWO2ND3rY"
   },
   "outputs": [],
   "source": []
  }
 ],
 "metadata": {
  "colab": {
   "provenance": []
  },
  "kernelspec": {
   "display_name": "Python 3",
   "language": "python",
   "name": "python3"
  },
  "language_info": {
   "codemirror_mode": {
    "name": "ipython",
    "version": 3
   },
   "file_extension": ".py",
   "mimetype": "text/x-python",
   "name": "python",
   "nbconvert_exporter": "python",
   "pygments_lexer": "ipython3",
   "version": "3.7.1"
  }
 },
 "nbformat": 4,
 "nbformat_minor": 1
}
